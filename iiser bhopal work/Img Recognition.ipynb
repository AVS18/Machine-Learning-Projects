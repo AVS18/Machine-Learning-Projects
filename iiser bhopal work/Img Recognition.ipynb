{
 "cells": [
  {
   "cell_type": "code",
   "execution_count": 1,
   "metadata": {},
   "outputs": [
    {
     "name": "stderr",
     "output_type": "stream",
     "text": [
      "Using TensorFlow backend.\n"
     ]
    }
   ],
   "source": [
    "from keras.datasets import mnist\n",
    "from keras.utils import np_utils"
   ]
  },
  {
   "cell_type": "code",
   "execution_count": 2,
   "metadata": {},
   "outputs": [],
   "source": [
    "(X_train,Y_train),(X_test,Y_test)=mnist.load_data()"
   ]
  },
  {
   "cell_type": "code",
   "execution_count": 3,
   "metadata": {},
   "outputs": [],
   "source": [
    "X_train=X_train.reshape(60000,784)\n",
    "X_test=X_test.reshape(10000,784)\n",
    "X_train=X_train.astype('float32')\n",
    "X_test=X_test.astype('float32')\n",
    "X_train/=255\n",
    "X_test/=255"
   ]
  },
  {
   "cell_type": "code",
   "execution_count": 4,
   "metadata": {},
   "outputs": [],
   "source": [
    "Y_train=np_utils.to_categorical(Y_train,10)\n",
    "Y_test=np_utils.to_categorical(Y_test,10)"
   ]
  },
  {
   "cell_type": "code",
   "execution_count": 5,
   "metadata": {},
   "outputs": [],
   "source": [
    "from keras.models import Sequential"
   ]
  },
  {
   "cell_type": "code",
   "execution_count": 6,
   "metadata": {},
   "outputs": [],
   "source": [
    "from keras.layers.core import Dense, Dropout, Activation"
   ]
  },
  {
   "cell_type": "code",
   "execution_count": 7,
   "metadata": {},
   "outputs": [],
   "source": [
    "model=Sequential()\n",
    "model.add(Dense(512,activation='relu',input_shape=(784,)))\n",
    "model.add(Dropout(0.2))\n",
    "model.add(Dense(512,activation='relu'))\n",
    "model.add(Dropout(0.2))\n",
    "model.add(Dense(10,activation='softmax'))"
   ]
  },
  {
   "cell_type": "code",
   "execution_count": 8,
   "metadata": {},
   "outputs": [],
   "source": [
    "model.compile(loss='categorical_crossentropy',optimizer='adam',metrics=['accuracy'])"
   ]
  },
  {
   "cell_type": "code",
   "execution_count": 9,
   "metadata": {},
   "outputs": [
    {
     "name": "stdout",
     "output_type": "stream",
     "text": [
      "Epoch 1/20\n",
      "60000/60000 [==============================] - 19s 316us/step - loss: 0.2448 - accuracy: 0.9273\n",
      "Epoch 2/20\n",
      "60000/60000 [==============================] - 15s 254us/step - loss: 0.1013 - accuracy: 0.9690\n",
      "Epoch 3/20\n",
      "60000/60000 [==============================] - 15s 253us/step - loss: 0.0730 - accuracy: 0.9768s - loss: 0.0730 - accuracy: \n",
      "Epoch 4/20\n",
      "60000/60000 [==============================] - 15s 255us/step - loss: 0.0553 - accuracy: 0.9828\n",
      "Epoch 5/20\n",
      "60000/60000 [==============================] - 16s 272us/step - loss: 0.0467 - accuracy: 0.9848\n",
      "Epoch 6/20\n",
      "60000/60000 [==============================] - 16s 274us/step - loss: 0.0379 - accuracy: 0.9879\n",
      "Epoch 7/20\n",
      "60000/60000 [==============================] - 16s 259us/step - loss: 0.0348 - accuracy: 0.9881\n",
      "Epoch 8/20\n",
      "60000/60000 [==============================] - 16s 263us/step - loss: 0.0321 - accuracy: 0.9888\n",
      "Epoch 9/20\n",
      "60000/60000 [==============================] - 15s 258us/step - loss: 0.0280 - accuracy: 0.9905\n",
      "Epoch 10/20\n",
      "60000/60000 [==============================] - 16s 260us/step - loss: 0.0239 - accuracy: 0.9922\n",
      "Epoch 11/20\n",
      "60000/60000 [==============================] - 15s 255us/step - loss: 0.0234 - accuracy: 0.9922\n",
      "Epoch 12/20\n",
      "60000/60000 [==============================] - 16s 259us/step - loss: 0.0233 - accuracy: 0.9919\n",
      "Epoch 13/20\n",
      "60000/60000 [==============================] - 15s 258us/step - loss: 0.0232 - accuracy: 0.9919\n",
      "Epoch 14/20\n",
      "60000/60000 [==============================] - 16s 262us/step - loss: 0.0169 - accuracy: 0.9944\n",
      "Epoch 15/20\n",
      "60000/60000 [==============================] - 15s 258us/step - loss: 0.0178 - accuracy: 0.9939\n",
      "Epoch 16/20\n",
      "60000/60000 [==============================] - 16s 262us/step - loss: 0.0181 - accuracy: 0.9941\n",
      "Epoch 17/20\n",
      "60000/60000 [==============================] - 13s 225us/step - loss: 0.0162 - accuracy: 0.9943s - loss: 0.0\n",
      "Epoch 18/20\n",
      "60000/60000 [==============================] - 16s 261us/step - loss: 0.0160 - accuracy: 0.9947\n",
      "Epoch 19/20\n",
      "60000/60000 [==============================] - 16s 259us/step - loss: 0.0171 - accuracy: 0.9943\n",
      "Epoch 20/20\n",
      "60000/60000 [==============================] - 16s 259us/step - loss: 0.0152 - accuracy: 0.9950\n"
     ]
    },
    {
     "data": {
      "text/plain": [
       "<keras.callbacks.callbacks.History at 0x1859257b70>"
      ]
     },
     "execution_count": 9,
     "metadata": {},
     "output_type": "execute_result"
    }
   ],
   "source": [
    "model.fit(X_train,Y_train,batch_size=128,epochs=20)"
   ]
  },
  {
   "cell_type": "code",
   "execution_count": 11,
   "metadata": {},
   "outputs": [
    {
     "name": "stdout",
     "output_type": "stream",
     "text": [
      "10000/10000 [==============================] - 3s 260us/step\n"
     ]
    }
   ],
   "source": [
    "acc_score=model.evaluate(X_test,Y_test)[1]"
   ]
  },
  {
   "cell_type": "code",
   "execution_count": 12,
   "metadata": {},
   "outputs": [
    {
     "name": "stdout",
     "output_type": "stream",
     "text": [
      "0.982699990272522\n"
     ]
    }
   ],
   "source": [
    "print(acc_score)"
   ]
  },
  {
   "cell_type": "code",
   "execution_count": null,
   "metadata": {},
   "outputs": [],
   "source": []
  }
 ],
 "metadata": {
  "kernelspec": {
   "display_name": "Python 3",
   "language": "python",
   "name": "python3"
  },
  "language_info": {
   "codemirror_mode": {
    "name": "ipython",
    "version": 3
   },
   "file_extension": ".py",
   "mimetype": "text/x-python",
   "name": "python",
   "nbconvert_exporter": "python",
   "pygments_lexer": "ipython3",
   "version": "3.7.3"
  }
 },
 "nbformat": 4,
 "nbformat_minor": 2
}
