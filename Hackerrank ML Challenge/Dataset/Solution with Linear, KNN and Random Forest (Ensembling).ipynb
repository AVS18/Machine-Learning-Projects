{
 "cells": [
  {
   "cell_type": "code",
   "execution_count": 1,
   "metadata": {},
   "outputs": [],
   "source": [
    "import pandas as pd\n",
    "import matplotlib.pyplot as plt"
   ]
  },
  {
   "cell_type": "code",
   "execution_count": 2,
   "metadata": {},
   "outputs": [],
   "source": [
    "data_frame_train=pd.read_csv(\"Train.csv\")"
   ]
  },
  {
   "cell_type": "code",
   "execution_count": 3,
   "metadata": {},
   "outputs": [
    {
     "data": {
      "text/html": [
       "<div>\n",
       "<style scoped>\n",
       "    .dataframe tbody tr th:only-of-type {\n",
       "        vertical-align: middle;\n",
       "    }\n",
       "\n",
       "    .dataframe tbody tr th {\n",
       "        vertical-align: top;\n",
       "    }\n",
       "\n",
       "    .dataframe thead th {\n",
       "        text-align: right;\n",
       "    }\n",
       "</style>\n",
       "<table border=\"1\" class=\"dataframe\">\n",
       "  <thead>\n",
       "    <tr style=\"text-align: right;\">\n",
       "      <th></th>\n",
       "      <th>Employee_ID</th>\n",
       "      <th>Gender</th>\n",
       "      <th>Age</th>\n",
       "      <th>Education_Level</th>\n",
       "      <th>Relationship_Status</th>\n",
       "      <th>Hometown</th>\n",
       "      <th>Unit</th>\n",
       "      <th>Decision_skill_possess</th>\n",
       "      <th>Time_of_service</th>\n",
       "      <th>Time_since_promotion</th>\n",
       "      <th>...</th>\n",
       "      <th>Compensation_and_Benefits</th>\n",
       "      <th>Work_Life_balance</th>\n",
       "      <th>VAR1</th>\n",
       "      <th>VAR2</th>\n",
       "      <th>VAR3</th>\n",
       "      <th>VAR4</th>\n",
       "      <th>VAR5</th>\n",
       "      <th>VAR6</th>\n",
       "      <th>VAR7</th>\n",
       "      <th>Attrition_rate</th>\n",
       "    </tr>\n",
       "  </thead>\n",
       "  <tbody>\n",
       "    <tr>\n",
       "      <th>0</th>\n",
       "      <td>EID_23371</td>\n",
       "      <td>F</td>\n",
       "      <td>42.0</td>\n",
       "      <td>4</td>\n",
       "      <td>Married</td>\n",
       "      <td>Franklin</td>\n",
       "      <td>IT</td>\n",
       "      <td>Conceptual</td>\n",
       "      <td>4.0</td>\n",
       "      <td>4</td>\n",
       "      <td>...</td>\n",
       "      <td>type2</td>\n",
       "      <td>3.0</td>\n",
       "      <td>4</td>\n",
       "      <td>0.7516</td>\n",
       "      <td>1.8688</td>\n",
       "      <td>2.0</td>\n",
       "      <td>4</td>\n",
       "      <td>5</td>\n",
       "      <td>3</td>\n",
       "      <td>0.1841</td>\n",
       "    </tr>\n",
       "    <tr>\n",
       "      <th>1</th>\n",
       "      <td>EID_18000</td>\n",
       "      <td>M</td>\n",
       "      <td>24.0</td>\n",
       "      <td>3</td>\n",
       "      <td>Single</td>\n",
       "      <td>Springfield</td>\n",
       "      <td>Logistics</td>\n",
       "      <td>Analytical</td>\n",
       "      <td>5.0</td>\n",
       "      <td>4</td>\n",
       "      <td>...</td>\n",
       "      <td>type2</td>\n",
       "      <td>4.0</td>\n",
       "      <td>3</td>\n",
       "      <td>-0.9612</td>\n",
       "      <td>-0.4537</td>\n",
       "      <td>2.0</td>\n",
       "      <td>3</td>\n",
       "      <td>5</td>\n",
       "      <td>3</td>\n",
       "      <td>0.0670</td>\n",
       "    </tr>\n",
       "    <tr>\n",
       "      <th>2</th>\n",
       "      <td>EID_3891</td>\n",
       "      <td>F</td>\n",
       "      <td>58.0</td>\n",
       "      <td>3</td>\n",
       "      <td>Married</td>\n",
       "      <td>Clinton</td>\n",
       "      <td>Quality</td>\n",
       "      <td>Conceptual</td>\n",
       "      <td>27.0</td>\n",
       "      <td>3</td>\n",
       "      <td>...</td>\n",
       "      <td>type2</td>\n",
       "      <td>1.0</td>\n",
       "      <td>4</td>\n",
       "      <td>-0.9612</td>\n",
       "      <td>-0.4537</td>\n",
       "      <td>3.0</td>\n",
       "      <td>3</td>\n",
       "      <td>8</td>\n",
       "      <td>3</td>\n",
       "      <td>0.0851</td>\n",
       "    </tr>\n",
       "    <tr>\n",
       "      <th>3</th>\n",
       "      <td>EID_17492</td>\n",
       "      <td>F</td>\n",
       "      <td>26.0</td>\n",
       "      <td>3</td>\n",
       "      <td>Single</td>\n",
       "      <td>Lebanon</td>\n",
       "      <td>Human Resource Management</td>\n",
       "      <td>Behavioral</td>\n",
       "      <td>4.0</td>\n",
       "      <td>3</td>\n",
       "      <td>...</td>\n",
       "      <td>type2</td>\n",
       "      <td>1.0</td>\n",
       "      <td>3</td>\n",
       "      <td>-1.8176</td>\n",
       "      <td>-0.4537</td>\n",
       "      <td>NaN</td>\n",
       "      <td>3</td>\n",
       "      <td>7</td>\n",
       "      <td>3</td>\n",
       "      <td>0.0668</td>\n",
       "    </tr>\n",
       "    <tr>\n",
       "      <th>4</th>\n",
       "      <td>EID_22534</td>\n",
       "      <td>F</td>\n",
       "      <td>31.0</td>\n",
       "      <td>1</td>\n",
       "      <td>Married</td>\n",
       "      <td>Springfield</td>\n",
       "      <td>Logistics</td>\n",
       "      <td>Conceptual</td>\n",
       "      <td>5.0</td>\n",
       "      <td>4</td>\n",
       "      <td>...</td>\n",
       "      <td>type3</td>\n",
       "      <td>3.0</td>\n",
       "      <td>1</td>\n",
       "      <td>0.7516</td>\n",
       "      <td>-0.4537</td>\n",
       "      <td>2.0</td>\n",
       "      <td>2</td>\n",
       "      <td>8</td>\n",
       "      <td>2</td>\n",
       "      <td>0.1827</td>\n",
       "    </tr>\n",
       "  </tbody>\n",
       "</table>\n",
       "<p>5 rows × 24 columns</p>\n",
       "</div>"
      ],
      "text/plain": [
       "  Employee_ID Gender   Age  Education_Level Relationship_Status     Hometown  \\\n",
       "0   EID_23371      F  42.0                4             Married     Franklin   \n",
       "1   EID_18000      M  24.0                3              Single  Springfield   \n",
       "2    EID_3891      F  58.0                3             Married      Clinton   \n",
       "3   EID_17492      F  26.0                3              Single      Lebanon   \n",
       "4   EID_22534      F  31.0                1             Married  Springfield   \n",
       "\n",
       "                        Unit Decision_skill_possess  Time_of_service  \\\n",
       "0                         IT             Conceptual              4.0   \n",
       "1                  Logistics             Analytical              5.0   \n",
       "2                    Quality             Conceptual             27.0   \n",
       "3  Human Resource Management             Behavioral              4.0   \n",
       "4                  Logistics             Conceptual              5.0   \n",
       "\n",
       "   Time_since_promotion  ...  Compensation_and_Benefits  Work_Life_balance  \\\n",
       "0                     4  ...                      type2                3.0   \n",
       "1                     4  ...                      type2                4.0   \n",
       "2                     3  ...                      type2                1.0   \n",
       "3                     3  ...                      type2                1.0   \n",
       "4                     4  ...                      type3                3.0   \n",
       "\n",
       "   VAR1    VAR2    VAR3  VAR4  VAR5  VAR6  VAR7  Attrition_rate  \n",
       "0     4  0.7516  1.8688   2.0     4     5     3          0.1841  \n",
       "1     3 -0.9612 -0.4537   2.0     3     5     3          0.0670  \n",
       "2     4 -0.9612 -0.4537   3.0     3     8     3          0.0851  \n",
       "3     3 -1.8176 -0.4537   NaN     3     7     3          0.0668  \n",
       "4     1  0.7516 -0.4537   2.0     2     8     2          0.1827  \n",
       "\n",
       "[5 rows x 24 columns]"
      ]
     },
     "execution_count": 3,
     "metadata": {},
     "output_type": "execute_result"
    }
   ],
   "source": [
    "data_frame_train.head()"
   ]
  },
  {
   "cell_type": "code",
   "execution_count": 4,
   "metadata": {},
   "outputs": [
    {
     "data": {
      "text/plain": [
       "(7000, 24)"
      ]
     },
     "execution_count": 4,
     "metadata": {},
     "output_type": "execute_result"
    }
   ],
   "source": [
    "data_frame_train.shape"
   ]
  },
  {
   "cell_type": "code",
   "execution_count": 5,
   "metadata": {},
   "outputs": [
    {
     "data": {
      "text/html": [
       "<div>\n",
       "<style scoped>\n",
       "    .dataframe tbody tr th:only-of-type {\n",
       "        vertical-align: middle;\n",
       "    }\n",
       "\n",
       "    .dataframe tbody tr th {\n",
       "        vertical-align: top;\n",
       "    }\n",
       "\n",
       "    .dataframe thead th {\n",
       "        text-align: right;\n",
       "    }\n",
       "</style>\n",
       "<table border=\"1\" class=\"dataframe\">\n",
       "  <thead>\n",
       "    <tr style=\"text-align: right;\">\n",
       "      <th></th>\n",
       "      <th>Age</th>\n",
       "      <th>Education_Level</th>\n",
       "      <th>Time_of_service</th>\n",
       "      <th>Time_since_promotion</th>\n",
       "      <th>growth_rate</th>\n",
       "      <th>Travel_Rate</th>\n",
       "      <th>Post_Level</th>\n",
       "      <th>Pay_Scale</th>\n",
       "      <th>Work_Life_balance</th>\n",
       "      <th>VAR1</th>\n",
       "      <th>VAR2</th>\n",
       "      <th>VAR3</th>\n",
       "      <th>VAR4</th>\n",
       "      <th>VAR5</th>\n",
       "      <th>VAR6</th>\n",
       "      <th>VAR7</th>\n",
       "      <th>Attrition_rate</th>\n",
       "    </tr>\n",
       "  </thead>\n",
       "  <tbody>\n",
       "    <tr>\n",
       "      <th>count</th>\n",
       "      <td>6588.000000</td>\n",
       "      <td>7000.000000</td>\n",
       "      <td>6856.000000</td>\n",
       "      <td>7000.000000</td>\n",
       "      <td>7000.000000</td>\n",
       "      <td>7000.000000</td>\n",
       "      <td>7000.000000</td>\n",
       "      <td>6991.000000</td>\n",
       "      <td>6989.000000</td>\n",
       "      <td>7000.000000</td>\n",
       "      <td>6423.000000</td>\n",
       "      <td>7000.000000</td>\n",
       "      <td>6344.000000</td>\n",
       "      <td>7000.000000</td>\n",
       "      <td>7000.000000</td>\n",
       "      <td>7000.000000</td>\n",
       "      <td>7000.000000</td>\n",
       "    </tr>\n",
       "    <tr>\n",
       "      <th>mean</th>\n",
       "      <td>39.622799</td>\n",
       "      <td>3.187857</td>\n",
       "      <td>13.385064</td>\n",
       "      <td>2.367143</td>\n",
       "      <td>47.064286</td>\n",
       "      <td>0.817857</td>\n",
       "      <td>2.798000</td>\n",
       "      <td>6.006294</td>\n",
       "      <td>2.387895</td>\n",
       "      <td>3.098571</td>\n",
       "      <td>-0.008126</td>\n",
       "      <td>-0.013606</td>\n",
       "      <td>1.891078</td>\n",
       "      <td>2.834143</td>\n",
       "      <td>7.101286</td>\n",
       "      <td>3.257000</td>\n",
       "      <td>0.189376</td>\n",
       "    </tr>\n",
       "    <tr>\n",
       "      <th>std</th>\n",
       "      <td>13.606920</td>\n",
       "      <td>1.065102</td>\n",
       "      <td>10.364188</td>\n",
       "      <td>1.149395</td>\n",
       "      <td>15.761406</td>\n",
       "      <td>0.648205</td>\n",
       "      <td>1.163721</td>\n",
       "      <td>2.058435</td>\n",
       "      <td>1.122786</td>\n",
       "      <td>0.836377</td>\n",
       "      <td>0.989850</td>\n",
       "      <td>0.986933</td>\n",
       "      <td>0.529403</td>\n",
       "      <td>0.938945</td>\n",
       "      <td>1.164262</td>\n",
       "      <td>0.925319</td>\n",
       "      <td>0.185753</td>\n",
       "    </tr>\n",
       "    <tr>\n",
       "      <th>min</th>\n",
       "      <td>19.000000</td>\n",
       "      <td>1.000000</td>\n",
       "      <td>0.000000</td>\n",
       "      <td>0.000000</td>\n",
       "      <td>20.000000</td>\n",
       "      <td>0.000000</td>\n",
       "      <td>1.000000</td>\n",
       "      <td>1.000000</td>\n",
       "      <td>1.000000</td>\n",
       "      <td>1.000000</td>\n",
       "      <td>-1.817600</td>\n",
       "      <td>-2.776200</td>\n",
       "      <td>1.000000</td>\n",
       "      <td>1.000000</td>\n",
       "      <td>5.000000</td>\n",
       "      <td>1.000000</td>\n",
       "      <td>0.000000</td>\n",
       "    </tr>\n",
       "    <tr>\n",
       "      <th>25%</th>\n",
       "      <td>27.000000</td>\n",
       "      <td>3.000000</td>\n",
       "      <td>5.000000</td>\n",
       "      <td>1.000000</td>\n",
       "      <td>33.000000</td>\n",
       "      <td>0.000000</td>\n",
       "      <td>2.000000</td>\n",
       "      <td>5.000000</td>\n",
       "      <td>1.000000</td>\n",
       "      <td>3.000000</td>\n",
       "      <td>-0.961200</td>\n",
       "      <td>-0.453700</td>\n",
       "      <td>2.000000</td>\n",
       "      <td>2.000000</td>\n",
       "      <td>6.000000</td>\n",
       "      <td>3.000000</td>\n",
       "      <td>0.070400</td>\n",
       "    </tr>\n",
       "    <tr>\n",
       "      <th>50%</th>\n",
       "      <td>37.000000</td>\n",
       "      <td>3.000000</td>\n",
       "      <td>10.000000</td>\n",
       "      <td>2.000000</td>\n",
       "      <td>47.000000</td>\n",
       "      <td>1.000000</td>\n",
       "      <td>3.000000</td>\n",
       "      <td>6.000000</td>\n",
       "      <td>2.000000</td>\n",
       "      <td>3.000000</td>\n",
       "      <td>-0.104800</td>\n",
       "      <td>-0.453700</td>\n",
       "      <td>2.000000</td>\n",
       "      <td>3.000000</td>\n",
       "      <td>7.000000</td>\n",
       "      <td>3.000000</td>\n",
       "      <td>0.142650</td>\n",
       "    </tr>\n",
       "    <tr>\n",
       "      <th>75%</th>\n",
       "      <td>52.000000</td>\n",
       "      <td>4.000000</td>\n",
       "      <td>21.000000</td>\n",
       "      <td>3.000000</td>\n",
       "      <td>61.000000</td>\n",
       "      <td>1.000000</td>\n",
       "      <td>3.000000</td>\n",
       "      <td>8.000000</td>\n",
       "      <td>3.000000</td>\n",
       "      <td>3.000000</td>\n",
       "      <td>0.751600</td>\n",
       "      <td>0.707500</td>\n",
       "      <td>2.000000</td>\n",
       "      <td>3.000000</td>\n",
       "      <td>8.000000</td>\n",
       "      <td>4.000000</td>\n",
       "      <td>0.235000</td>\n",
       "    </tr>\n",
       "    <tr>\n",
       "      <th>max</th>\n",
       "      <td>65.000000</td>\n",
       "      <td>5.000000</td>\n",
       "      <td>43.000000</td>\n",
       "      <td>4.000000</td>\n",
       "      <td>74.000000</td>\n",
       "      <td>2.000000</td>\n",
       "      <td>5.000000</td>\n",
       "      <td>10.000000</td>\n",
       "      <td>5.000000</td>\n",
       "      <td>5.000000</td>\n",
       "      <td>1.608100</td>\n",
       "      <td>1.868800</td>\n",
       "      <td>3.000000</td>\n",
       "      <td>5.000000</td>\n",
       "      <td>9.000000</td>\n",
       "      <td>5.000000</td>\n",
       "      <td>0.995900</td>\n",
       "    </tr>\n",
       "  </tbody>\n",
       "</table>\n",
       "</div>"
      ],
      "text/plain": [
       "               Age  Education_Level  Time_of_service  Time_since_promotion  \\\n",
       "count  6588.000000      7000.000000      6856.000000           7000.000000   \n",
       "mean     39.622799         3.187857        13.385064              2.367143   \n",
       "std      13.606920         1.065102        10.364188              1.149395   \n",
       "min      19.000000         1.000000         0.000000              0.000000   \n",
       "25%      27.000000         3.000000         5.000000              1.000000   \n",
       "50%      37.000000         3.000000        10.000000              2.000000   \n",
       "75%      52.000000         4.000000        21.000000              3.000000   \n",
       "max      65.000000         5.000000        43.000000              4.000000   \n",
       "\n",
       "       growth_rate  Travel_Rate   Post_Level    Pay_Scale  Work_Life_balance  \\\n",
       "count  7000.000000  7000.000000  7000.000000  6991.000000        6989.000000   \n",
       "mean     47.064286     0.817857     2.798000     6.006294           2.387895   \n",
       "std      15.761406     0.648205     1.163721     2.058435           1.122786   \n",
       "min      20.000000     0.000000     1.000000     1.000000           1.000000   \n",
       "25%      33.000000     0.000000     2.000000     5.000000           1.000000   \n",
       "50%      47.000000     1.000000     3.000000     6.000000           2.000000   \n",
       "75%      61.000000     1.000000     3.000000     8.000000           3.000000   \n",
       "max      74.000000     2.000000     5.000000    10.000000           5.000000   \n",
       "\n",
       "              VAR1         VAR2         VAR3         VAR4         VAR5  \\\n",
       "count  7000.000000  6423.000000  7000.000000  6344.000000  7000.000000   \n",
       "mean      3.098571    -0.008126    -0.013606     1.891078     2.834143   \n",
       "std       0.836377     0.989850     0.986933     0.529403     0.938945   \n",
       "min       1.000000    -1.817600    -2.776200     1.000000     1.000000   \n",
       "25%       3.000000    -0.961200    -0.453700     2.000000     2.000000   \n",
       "50%       3.000000    -0.104800    -0.453700     2.000000     3.000000   \n",
       "75%       3.000000     0.751600     0.707500     2.000000     3.000000   \n",
       "max       5.000000     1.608100     1.868800     3.000000     5.000000   \n",
       "\n",
       "              VAR6         VAR7  Attrition_rate  \n",
       "count  7000.000000  7000.000000     7000.000000  \n",
       "mean      7.101286     3.257000        0.189376  \n",
       "std       1.164262     0.925319        0.185753  \n",
       "min       5.000000     1.000000        0.000000  \n",
       "25%       6.000000     3.000000        0.070400  \n",
       "50%       7.000000     3.000000        0.142650  \n",
       "75%       8.000000     4.000000        0.235000  \n",
       "max       9.000000     5.000000        0.995900  "
      ]
     },
     "execution_count": 5,
     "metadata": {},
     "output_type": "execute_result"
    }
   ],
   "source": [
    "data_frame_train.describe()"
   ]
  },
  {
   "cell_type": "code",
   "execution_count": 6,
   "metadata": {},
   "outputs": [
    {
     "data": {
      "text/plain": [
       "Index(['Employee_ID', 'Gender', 'Age', 'Education_Level',\n",
       "       'Relationship_Status', 'Hometown', 'Unit', 'Decision_skill_possess',\n",
       "       'Time_of_service', 'Time_since_promotion', 'growth_rate', 'Travel_Rate',\n",
       "       'Post_Level', 'Pay_Scale', 'Compensation_and_Benefits',\n",
       "       'Work_Life_balance', 'VAR1', 'VAR2', 'VAR3', 'VAR4', 'VAR5', 'VAR6',\n",
       "       'VAR7', 'Attrition_rate'],\n",
       "      dtype='object')"
      ]
     },
     "execution_count": 6,
     "metadata": {},
     "output_type": "execute_result"
    }
   ],
   "source": [
    "data_frame_train.columns"
   ]
  },
  {
   "cell_type": "code",
   "execution_count": 7,
   "metadata": {},
   "outputs": [
    {
     "data": {
      "text/plain": [
       "Employee_ID                    0\n",
       "Gender                         0\n",
       "Age                          412\n",
       "Education_Level                0\n",
       "Relationship_Status            0\n",
       "Hometown                       0\n",
       "Unit                           0\n",
       "Decision_skill_possess         0\n",
       "Time_of_service              144\n",
       "Time_since_promotion           0\n",
       "growth_rate                    0\n",
       "Travel_Rate                    0\n",
       "Post_Level                     0\n",
       "Pay_Scale                      9\n",
       "Compensation_and_Benefits      0\n",
       "Work_Life_balance             11\n",
       "VAR1                           0\n",
       "VAR2                         577\n",
       "VAR3                           0\n",
       "VAR4                         656\n",
       "VAR5                           0\n",
       "VAR6                           0\n",
       "VAR7                           0\n",
       "Attrition_rate                 0\n",
       "dtype: int64"
      ]
     },
     "execution_count": 7,
     "metadata": {},
     "output_type": "execute_result"
    }
   ],
   "source": [
    "data_frame_train.isnull().sum()"
   ]
  },
  {
   "cell_type": "code",
   "execution_count": 8,
   "metadata": {},
   "outputs": [
    {
     "data": {
      "text/plain": [
       "22.0    235\n",
       "25.0    235\n",
       "27.0    231\n",
       "31.0    218\n",
       "54.0    212\n",
       "60.0    211\n",
       "26.0    210\n",
       "37.0    208\n",
       "35.0    205\n",
       "52.0    199\n",
       "28.0    194\n",
       "47.0    193\n",
       "42.0    193\n",
       "30.0    191\n",
       "32.0    189\n",
       "24.0    185\n",
       "45.0    184\n",
       "21.0    171\n",
       "65.0    152\n",
       "19.0    151\n",
       "23.0    148\n",
       "59.0    136\n",
       "20.0    122\n",
       "58.0    122\n",
       "29.0    115\n",
       "36.0    106\n",
       "33.0    104\n",
       "51.0    103\n",
       "50.0    101\n",
       "34.0     99\n",
       "46.0     98\n",
       "49.0     97\n",
       "64.0     95\n",
       "55.0     94\n",
       "56.0     94\n",
       "43.0     93\n",
       "41.0     92\n",
       "57.0     92\n",
       "38.0     89\n",
       "53.0     88\n",
       "44.0     85\n",
       "39.0     83\n",
       "40.0     81\n",
       "48.0     79\n",
       "63.0     73\n",
       "62.0     69\n",
       "61.0     63\n",
       "Name: Age, dtype: int64"
      ]
     },
     "execution_count": 8,
     "metadata": {},
     "output_type": "execute_result"
    }
   ],
   "source": [
    "data_frame_train[\"Age\"].value_counts()"
   ]
  },
  {
   "cell_type": "code",
   "execution_count": 9,
   "metadata": {},
   "outputs": [
    {
     "data": {
      "text/plain": [
       "39.62279902853673"
      ]
     },
     "execution_count": 9,
     "metadata": {},
     "output_type": "execute_result"
    }
   ],
   "source": [
    "data_frame_train[\"Age\"].isnull().sum()\n",
    "\n",
    "data_frame_train[\"Age\"].mean()"
   ]
  },
  {
   "cell_type": "code",
   "execution_count": 10,
   "metadata": {},
   "outputs": [
    {
     "data": {
      "text/plain": [
       "IT                           1394\n",
       "Logistics                    1173\n",
       "Sales                         943\n",
       "Operarions                    706\n",
       "R&D                           680\n",
       "Purchasing                    504\n",
       "Accounting and Finance        496\n",
       "Human Resource Management     344\n",
       "Marketing                     212\n",
       "Production                    211\n",
       "Quality                       193\n",
       "Security                      144\n",
       "Name: Unit, dtype: int64"
      ]
     },
     "execution_count": 10,
     "metadata": {},
     "output_type": "execute_result"
    }
   ],
   "source": [
    "data_frame_train[\"Age\"].fillna(39,inplace=True)\n",
    "\n",
    "data_frame_train[\"Unit\"].value_counts()"
   ]
  },
  {
   "cell_type": "code",
   "execution_count": 11,
   "metadata": {},
   "outputs": [],
   "source": [
    "x=list(dict(data_frame_train[\"Unit\"].value_counts()).keys())"
   ]
  },
  {
   "cell_type": "code",
   "execution_count": 12,
   "metadata": {},
   "outputs": [],
   "source": [
    "x={x[i]:i for i in range(0,len(x))}"
   ]
  },
  {
   "cell_type": "code",
   "execution_count": 13,
   "metadata": {},
   "outputs": [],
   "source": [
    "data_frame_train[\"Unit\"]=data_frame_train[\"Unit\"].replace(x)"
   ]
  },
  {
   "cell_type": "code",
   "execution_count": 14,
   "metadata": {},
   "outputs": [
    {
     "data": {
      "text/plain": [
       "0     1394\n",
       "1     1173\n",
       "2      943\n",
       "3      706\n",
       "4      680\n",
       "5      504\n",
       "6      496\n",
       "7      344\n",
       "8      212\n",
       "9      211\n",
       "10     193\n",
       "11     144\n",
       "Name: Unit, dtype: int64"
      ]
     },
     "execution_count": 14,
     "metadata": {},
     "output_type": "execute_result"
    }
   ],
   "source": [
    "data_frame_train[\"Unit\"].value_counts()"
   ]
  },
  {
   "cell_type": "code",
   "execution_count": 15,
   "metadata": {},
   "outputs": [
    {
     "data": {
      "text/plain": [
       "3    2878\n",
       "4    2076\n",
       "1     695\n",
       "2     691\n",
       "5     660\n",
       "Name: Education_Level, dtype: int64"
      ]
     },
     "execution_count": 15,
     "metadata": {},
     "output_type": "execute_result"
    }
   ],
   "source": [
    "data_frame_train[\"Education_Level\"].value_counts()"
   ]
  },
  {
   "cell_type": "code",
   "execution_count": 16,
   "metadata": {},
   "outputs": [
    {
     "data": {
      "text/plain": [
       "Employee_ID                   object\n",
       "Gender                        object\n",
       "Age                          float64\n",
       "Education_Level                int64\n",
       "Relationship_Status           object\n",
       "Hometown                      object\n",
       "Unit                           int64\n",
       "Decision_skill_possess        object\n",
       "Time_of_service              float64\n",
       "Time_since_promotion           int64\n",
       "growth_rate                    int64\n",
       "Travel_Rate                    int64\n",
       "Post_Level                     int64\n",
       "Pay_Scale                    float64\n",
       "Compensation_and_Benefits     object\n",
       "Work_Life_balance            float64\n",
       "VAR1                           int64\n",
       "VAR2                         float64\n",
       "VAR3                         float64\n",
       "VAR4                         float64\n",
       "VAR5                           int64\n",
       "VAR6                           int64\n",
       "VAR7                           int64\n",
       "Attrition_rate               float64\n",
       "dtype: object"
      ]
     },
     "execution_count": 16,
     "metadata": {},
     "output_type": "execute_result"
    }
   ],
   "source": [
    "data_frame_train.dtypes"
   ]
  },
  {
   "cell_type": "code",
   "execution_count": 17,
   "metadata": {},
   "outputs": [],
   "source": [
    "data_frame_train=data_frame_train.astype({'Unit':'object','Education_Level':'object'})"
   ]
  },
  {
   "cell_type": "code",
   "execution_count": 18,
   "metadata": {},
   "outputs": [
    {
     "data": {
      "text/plain": [
       "F    4114\n",
       "M    2886\n",
       "Name: Gender, dtype: int64"
      ]
     },
     "execution_count": 18,
     "metadata": {},
     "output_type": "execute_result"
    }
   ],
   "source": [
    "data_frame_train[\"Gender\"].value_counts()"
   ]
  },
  {
   "cell_type": "code",
   "execution_count": 19,
   "metadata": {},
   "outputs": [],
   "source": [
    "data_frame_train[\"Gender\"]=data_frame_train[\"Gender\"].replace({'M':0,'F':1})"
   ]
  },
  {
   "cell_type": "code",
   "execution_count": 20,
   "metadata": {},
   "outputs": [
    {
     "data": {
      "text/plain": [
       "1    4114\n",
       "0    2886\n",
       "Name: Gender, dtype: int64"
      ]
     },
     "execution_count": 20,
     "metadata": {},
     "output_type": "execute_result"
    }
   ],
   "source": [
    "data_frame_train[\"Gender\"].value_counts()"
   ]
  },
  {
   "cell_type": "code",
   "execution_count": 21,
   "metadata": {},
   "outputs": [
    {
     "data": {
      "text/plain": [
       "Conceptual    1756\n",
       "Analytical    1755\n",
       "Directive     1753\n",
       "Behavioral    1736\n",
       "Name: Decision_skill_possess, dtype: int64"
      ]
     },
     "execution_count": 21,
     "metadata": {},
     "output_type": "execute_result"
    }
   ],
   "source": [
    "data_frame_train[\"Decision_skill_possess\"].value_counts()"
   ]
  },
  {
   "cell_type": "code",
   "execution_count": 22,
   "metadata": {},
   "outputs": [],
   "source": [
    "x=list(dict(data_frame_train[\"Decision_skill_possess\"].value_counts()).keys())"
   ]
  },
  {
   "cell_type": "code",
   "execution_count": 23,
   "metadata": {},
   "outputs": [],
   "source": [
    "data_frame_train[\"Decision_skill_possess\"]=data_frame_train[\"Decision_skill_possess\"].replace({x[i]:i for i in range(0,len(x))})"
   ]
  },
  {
   "cell_type": "code",
   "execution_count": 24,
   "metadata": {},
   "outputs": [
    {
     "data": {
      "text/plain": [
       "0    1756\n",
       "1    1755\n",
       "2    1753\n",
       "3    1736\n",
       "Name: Decision_skill_possess, dtype: int64"
      ]
     },
     "execution_count": 24,
     "metadata": {},
     "output_type": "execute_result"
    }
   ],
   "source": [
    "data_frame_train[\"Decision_skill_possess\"].value_counts()"
   ]
  },
  {
   "cell_type": "code",
   "execution_count": 25,
   "metadata": {},
   "outputs": [],
   "source": [
    "data_frame_train=data_frame_train.astype({'Gender':'object','Decision_skill_possess':'object'})"
   ]
  },
  {
   "cell_type": "code",
   "execution_count": 26,
   "metadata": {},
   "outputs": [
    {
     "data": {
      "text/plain": [
       "Employee_ID                   object\n",
       "Gender                        object\n",
       "Age                          float64\n",
       "Education_Level               object\n",
       "Relationship_Status           object\n",
       "Hometown                      object\n",
       "Unit                          object\n",
       "Decision_skill_possess        object\n",
       "Time_of_service              float64\n",
       "Time_since_promotion           int64\n",
       "growth_rate                    int64\n",
       "Travel_Rate                    int64\n",
       "Post_Level                     int64\n",
       "Pay_Scale                    float64\n",
       "Compensation_and_Benefits     object\n",
       "Work_Life_balance            float64\n",
       "VAR1                           int64\n",
       "VAR2                         float64\n",
       "VAR3                         float64\n",
       "VAR4                         float64\n",
       "VAR5                           int64\n",
       "VAR6                           int64\n",
       "VAR7                           int64\n",
       "Attrition_rate               float64\n",
       "dtype: object"
      ]
     },
     "execution_count": 26,
     "metadata": {},
     "output_type": "execute_result"
    }
   ],
   "source": [
    "data_frame_train.dtypes"
   ]
  },
  {
   "cell_type": "code",
   "execution_count": 27,
   "metadata": {},
   "outputs": [],
   "source": [
    "exceptions=[key for key,value in dict(data_frame_train.isnull().sum()).items() if value>0]"
   ]
  },
  {
   "cell_type": "code",
   "execution_count": 28,
   "metadata": {},
   "outputs": [
    {
     "name": "stdout",
     "output_type": "stream",
     "text": [
      "['Time_of_service', 'Pay_Scale', 'Work_Life_balance', 'VAR2', 'VAR4']\n"
     ]
    }
   ],
   "source": [
    "print(exceptions)"
   ]
  },
  {
   "cell_type": "code",
   "execution_count": 29,
   "metadata": {},
   "outputs": [
    {
     "data": {
      "text/plain": [
       "['Time_of_service', 'Pay_Scale', 'Work_Life_balance', 'VAR2', 'VAR4']"
      ]
     },
     "execution_count": 29,
     "metadata": {},
     "output_type": "execute_result"
    }
   ],
   "source": [
    "exceptions"
   ]
  },
  {
   "cell_type": "code",
   "execution_count": 30,
   "metadata": {},
   "outputs": [
    {
     "data": {
      "text/plain": [
       "3    2435\n",
       "2    1786\n",
       "4    1046\n",
       "1    1035\n",
       "5     698\n",
       "Name: Post_Level, dtype: int64"
      ]
     },
     "execution_count": 30,
     "metadata": {},
     "output_type": "execute_result"
    }
   ],
   "source": [
    "data_frame_train[\"Post_Level\"].value_counts()"
   ]
  },
  {
   "cell_type": "code",
   "execution_count": 31,
   "metadata": {},
   "outputs": [
    {
     "data": {
      "text/plain": [
       "Married    4520\n",
       "Single     2480\n",
       "Name: Relationship_Status, dtype: int64"
      ]
     },
     "execution_count": 31,
     "metadata": {},
     "output_type": "execute_result"
    }
   ],
   "source": [
    "data_frame_train[\"Relationship_Status\"].value_counts()"
   ]
  },
  {
   "cell_type": "code",
   "execution_count": 32,
   "metadata": {},
   "outputs": [],
   "source": [
    "data_frame_train[\"Relationship_Status\"]=data_frame_train[\"Relationship_Status\"].replace({'Married':0,'Single':1})"
   ]
  },
  {
   "cell_type": "code",
   "execution_count": 33,
   "metadata": {},
   "outputs": [
    {
     "data": {
      "text/plain": [
       "0    4520\n",
       "1    2480\n",
       "Name: Relationship_Status, dtype: int64"
      ]
     },
     "execution_count": 33,
     "metadata": {},
     "output_type": "execute_result"
    }
   ],
   "source": [
    "data_frame_train[\"Relationship_Status\"].value_counts()"
   ]
  },
  {
   "cell_type": "code",
   "execution_count": 34,
   "metadata": {},
   "outputs": [],
   "source": [
    "data_frame_train=data_frame_train.astype({'Relationship_Status':'object','Post_Level':'object'})"
   ]
  },
  {
   "cell_type": "code",
   "execution_count": 35,
   "metadata": {},
   "outputs": [
    {
     "data": {
      "text/plain": [
       "Employee_ID                   object\n",
       "Gender                        object\n",
       "Age                          float64\n",
       "Education_Level               object\n",
       "Relationship_Status           object\n",
       "Hometown                      object\n",
       "Unit                          object\n",
       "Decision_skill_possess        object\n",
       "Time_of_service              float64\n",
       "Time_since_promotion           int64\n",
       "growth_rate                    int64\n",
       "Travel_Rate                    int64\n",
       "Post_Level                    object\n",
       "Pay_Scale                    float64\n",
       "Compensation_and_Benefits     object\n",
       "Work_Life_balance            float64\n",
       "VAR1                           int64\n",
       "VAR2                         float64\n",
       "VAR3                         float64\n",
       "VAR4                         float64\n",
       "VAR5                           int64\n",
       "VAR6                           int64\n",
       "VAR7                           int64\n",
       "Attrition_rate               float64\n",
       "dtype: object"
      ]
     },
     "execution_count": 35,
     "metadata": {},
     "output_type": "execute_result"
    }
   ],
   "source": [
    "data_frame_train.dtypes"
   ]
  },
  {
   "cell_type": "code",
   "execution_count": 36,
   "metadata": {},
   "outputs": [
    {
     "data": {
      "text/plain": [
       "['Time_of_service', 'Pay_Scale', 'Work_Life_balance', 'VAR2', 'VAR4']"
      ]
     },
     "execution_count": 36,
     "metadata": {},
     "output_type": "execute_result"
    }
   ],
   "source": [
    "exceptions"
   ]
  },
  {
   "cell_type": "code",
   "execution_count": 37,
   "metadata": {},
   "outputs": [
    {
     "data": {
      "text/plain": [
       "8.0     1392\n",
       "6.0     1284\n",
       "5.0     1160\n",
       "4.0      983\n",
       "7.0      811\n",
       "9.0      464\n",
       "2.0      277\n",
       "3.0      255\n",
       "10.0     209\n",
       "1.0      156\n",
       "Name: Pay_Scale, dtype: int64"
      ]
     },
     "execution_count": 37,
     "metadata": {},
     "output_type": "execute_result"
    }
   ],
   "source": [
    "data_frame_train[\"Pay_Scale\"].value_counts()"
   ]
  },
  {
   "cell_type": "code",
   "execution_count": 38,
   "metadata": {},
   "outputs": [
    {
     "data": {
      "text/html": [
       "<div>\n",
       "<style scoped>\n",
       "    .dataframe tbody tr th:only-of-type {\n",
       "        vertical-align: middle;\n",
       "    }\n",
       "\n",
       "    .dataframe tbody tr th {\n",
       "        vertical-align: top;\n",
       "    }\n",
       "\n",
       "    .dataframe thead th {\n",
       "        text-align: right;\n",
       "    }\n",
       "</style>\n",
       "<table border=\"1\" class=\"dataframe\">\n",
       "  <thead>\n",
       "    <tr style=\"text-align: right;\">\n",
       "      <th>Decision_skill_possess</th>\n",
       "      <th>0</th>\n",
       "      <th>1</th>\n",
       "      <th>2</th>\n",
       "      <th>3</th>\n",
       "    </tr>\n",
       "    <tr>\n",
       "      <th>Age</th>\n",
       "      <th></th>\n",
       "      <th></th>\n",
       "      <th></th>\n",
       "      <th></th>\n",
       "    </tr>\n",
       "  </thead>\n",
       "  <tbody>\n",
       "    <tr>\n",
       "      <th>21.0</th>\n",
       "      <td>0</td>\n",
       "      <td>0</td>\n",
       "      <td>1</td>\n",
       "      <td>0</td>\n",
       "    </tr>\n",
       "    <tr>\n",
       "      <th>23.0</th>\n",
       "      <td>0</td>\n",
       "      <td>1</td>\n",
       "      <td>0</td>\n",
       "      <td>0</td>\n",
       "    </tr>\n",
       "    <tr>\n",
       "      <th>28.0</th>\n",
       "      <td>0</td>\n",
       "      <td>0</td>\n",
       "      <td>1</td>\n",
       "      <td>0</td>\n",
       "    </tr>\n",
       "    <tr>\n",
       "      <th>33.0</th>\n",
       "      <td>0</td>\n",
       "      <td>0</td>\n",
       "      <td>1</td>\n",
       "      <td>0</td>\n",
       "    </tr>\n",
       "    <tr>\n",
       "      <th>35.0</th>\n",
       "      <td>0</td>\n",
       "      <td>0</td>\n",
       "      <td>1</td>\n",
       "      <td>0</td>\n",
       "    </tr>\n",
       "    <tr>\n",
       "      <th>36.0</th>\n",
       "      <td>0</td>\n",
       "      <td>0</td>\n",
       "      <td>1</td>\n",
       "      <td>0</td>\n",
       "    </tr>\n",
       "    <tr>\n",
       "      <th>47.0</th>\n",
       "      <td>0</td>\n",
       "      <td>0</td>\n",
       "      <td>1</td>\n",
       "      <td>0</td>\n",
       "    </tr>\n",
       "    <tr>\n",
       "      <th>52.0</th>\n",
       "      <td>1</td>\n",
       "      <td>0</td>\n",
       "      <td>0</td>\n",
       "      <td>1</td>\n",
       "    </tr>\n",
       "  </tbody>\n",
       "</table>\n",
       "</div>"
      ],
      "text/plain": [
       "Decision_skill_possess  0  1  2  3\n",
       "Age                               \n",
       "21.0                    0  0  1  0\n",
       "23.0                    0  1  0  0\n",
       "28.0                    0  0  1  0\n",
       "33.0                    0  0  1  0\n",
       "35.0                    0  0  1  0\n",
       "36.0                    0  0  1  0\n",
       "47.0                    0  0  1  0\n",
       "52.0                    1  0  0  1"
      ]
     },
     "execution_count": 38,
     "metadata": {},
     "output_type": "execute_result"
    }
   ],
   "source": [
    "x=data_frame_train[data_frame_train[\"Pay_Scale\"].isnull()==True]\n",
    "pd.crosstab(x[\"Age\"],x[\"Decision_skill_possess\"])"
   ]
  },
  {
   "cell_type": "code",
   "execution_count": 39,
   "metadata": {},
   "outputs": [
    {
     "name": "stderr",
     "output_type": "stream",
     "text": [
      "C:\\Users\\AVM\\Anaconda3\\lib\\site-packages\\ipykernel_launcher.py:10: SettingWithCopyWarning: \n",
      "A value is trying to be set on a copy of a slice from a DataFrame\n",
      "\n",
      "See the caveats in the documentation: http://pandas.pydata.org/pandas-docs/stable/indexing.html#indexing-view-versus-copy\n",
      "  # Remove the CWD from sys.path while we load stuff.\n",
      "C:\\Users\\AVM\\Anaconda3\\lib\\site-packages\\ipykernel_launcher.py:8: SettingWithCopyWarning: \n",
      "A value is trying to be set on a copy of a slice from a DataFrame\n",
      "\n",
      "See the caveats in the documentation: http://pandas.pydata.org/pandas-docs/stable/indexing.html#indexing-view-versus-copy\n",
      "  \n",
      "C:\\Users\\AVM\\Anaconda3\\lib\\site-packages\\ipykernel_launcher.py:6: SettingWithCopyWarning: \n",
      "A value is trying to be set on a copy of a slice from a DataFrame\n",
      "\n",
      "See the caveats in the documentation: http://pandas.pydata.org/pandas-docs/stable/indexing.html#indexing-view-versus-copy\n",
      "  \n",
      "C:\\Users\\AVM\\Anaconda3\\lib\\site-packages\\ipykernel_launcher.py:4: SettingWithCopyWarning: \n",
      "A value is trying to be set on a copy of a slice from a DataFrame\n",
      "\n",
      "See the caveats in the documentation: http://pandas.pydata.org/pandas-docs/stable/indexing.html#indexing-view-versus-copy\n",
      "  after removing the cwd from sys.path.\n"
     ]
    }
   ],
   "source": [
    "for i in range(0,len(data_frame_train)):\n",
    "    if pd.isnull(data_frame_train[\"Pay_Scale\"][i]):\n",
    "        if data_frame_train[\"Decision_skill_possess\"][i]==0:\n",
    "            data_frame_train[\"Pay_Scale\"][i]=1\n",
    "        elif data_frame_train[\"Decision_skill_possess\"][i]==1:\n",
    "            data_frame_train[\"Pay_Scale\"][i]=3\n",
    "        elif data_frame_train[\"Decision_skill_possess\"][i]==2:\n",
    "            data_frame_train[\"Pay_Scale\"][i]=8\n",
    "        elif data_frame_train[\"Decision_skill_possess\"][i]==3:\n",
    "            data_frame_train[\"Pay_Scale\"][i]=9"
   ]
  },
  {
   "cell_type": "code",
   "execution_count": 40,
   "metadata": {},
   "outputs": [
    {
     "data": {
      "text/plain": [
       "8.0     1398\n",
       "6.0     1284\n",
       "5.0     1160\n",
       "4.0      983\n",
       "7.0      811\n",
       "9.0      465\n",
       "2.0      277\n",
       "3.0      256\n",
       "10.0     209\n",
       "1.0      157\n",
       "Name: Pay_Scale, dtype: int64"
      ]
     },
     "execution_count": 40,
     "metadata": {},
     "output_type": "execute_result"
    }
   ],
   "source": [
    "data_frame_train[\"Pay_Scale\"].value_counts()"
   ]
  },
  {
   "cell_type": "code",
   "execution_count": 41,
   "metadata": {},
   "outputs": [
    {
     "data": {
      "text/plain": [
       "['Time_of_service', 'Pay_Scale', 'Work_Life_balance', 'VAR2', 'VAR4']"
      ]
     },
     "execution_count": 41,
     "metadata": {},
     "output_type": "execute_result"
    }
   ],
   "source": [
    "exceptions"
   ]
  },
  {
   "cell_type": "code",
   "execution_count": 42,
   "metadata": {},
   "outputs": [
    {
     "data": {
      "text/plain": [
       "144"
      ]
     },
     "execution_count": 42,
     "metadata": {},
     "output_type": "execute_result"
    }
   ],
   "source": [
    "data_frame_train[\"Time_of_service\"].isnull().sum()"
   ]
  },
  {
   "cell_type": "code",
   "execution_count": 43,
   "metadata": {},
   "outputs": [
    {
     "name": "stderr",
     "output_type": "stream",
     "text": [
      "C:\\Users\\AVM\\Anaconda3\\lib\\site-packages\\ipykernel_launcher.py:6: SettingWithCopyWarning: \n",
      "A value is trying to be set on a copy of a slice from a DataFrame\n",
      "\n",
      "See the caveats in the documentation: http://pandas.pydata.org/pandas-docs/stable/indexing.html#indexing-view-versus-copy\n",
      "  \n",
      "C:\\Users\\AVM\\Anaconda3\\lib\\site-packages\\ipykernel_launcher.py:4: SettingWithCopyWarning: \n",
      "A value is trying to be set on a copy of a slice from a DataFrame\n",
      "\n",
      "See the caveats in the documentation: http://pandas.pydata.org/pandas-docs/stable/indexing.html#indexing-view-versus-copy\n",
      "  after removing the cwd from sys.path.\n",
      "C:\\Users\\AVM\\Anaconda3\\lib\\site-packages\\ipykernel_launcher.py:8: SettingWithCopyWarning: \n",
      "A value is trying to be set on a copy of a slice from a DataFrame\n",
      "\n",
      "See the caveats in the documentation: http://pandas.pydata.org/pandas-docs/stable/indexing.html#indexing-view-versus-copy\n",
      "  \n",
      "C:\\Users\\AVM\\Anaconda3\\lib\\site-packages\\ipykernel_launcher.py:12: SettingWithCopyWarning: \n",
      "A value is trying to be set on a copy of a slice from a DataFrame\n",
      "\n",
      "See the caveats in the documentation: http://pandas.pydata.org/pandas-docs/stable/indexing.html#indexing-view-versus-copy\n",
      "  if sys.path[0] == '':\n",
      "C:\\Users\\AVM\\Anaconda3\\lib\\site-packages\\ipykernel_launcher.py:10: SettingWithCopyWarning: \n",
      "A value is trying to be set on a copy of a slice from a DataFrame\n",
      "\n",
      "See the caveats in the documentation: http://pandas.pydata.org/pandas-docs/stable/indexing.html#indexing-view-versus-copy\n",
      "  # Remove the CWD from sys.path while we load stuff.\n"
     ]
    }
   ],
   "source": [
    "for i in range(0,len(data_frame_train)):\n",
    "    if pd.isnull(data_frame_train[\"Time_of_service\"][i]):\n",
    "        if data_frame_train[\"Age\"][i]<=25:\n",
    "            data_frame_train[\"Time_of_service\"][i]=3\n",
    "        elif data_frame_train[\"Age\"][i]<=35:\n",
    "            data_frame_train[\"Time_of_service\"][i]=6\n",
    "        elif data_frame_train[\"Age\"][i]<=45:\n",
    "            data_frame_train[\"Time_of_service\"][i]=10\n",
    "        elif data_frame_train[\"Age\"][i]<=55:\n",
    "            data_frame_train[\"Time_of_service\"][i]=17\n",
    "        elif data_frame_train[\"Age\"][i]>55:\n",
    "            data_frame_train[\"Time_of_service\"][i]=22"
   ]
  },
  {
   "cell_type": "code",
   "execution_count": 44,
   "metadata": {},
   "outputs": [
    {
     "data": {
      "text/plain": [
       "6.0     580\n",
       "5.0     503\n",
       "3.0     489\n",
       "4.0     439\n",
       "2.0     297\n",
       "8.0     276\n",
       "7.0     258\n",
       "10.0    256\n",
       "9.0     205\n",
       "13.0    195\n",
       "12.0    191\n",
       "11.0    178\n",
       "15.0    178\n",
       "14.0    175\n",
       "22.0    175\n",
       "0.0     162\n",
       "18.0    154\n",
       "16.0    150\n",
       "17.0    148\n",
       "20.0    142\n",
       "21.0    137\n",
       "24.0    129\n",
       "1.0     127\n",
       "19.0    122\n",
       "23.0    118\n",
       "25.0    117\n",
       "27.0    114\n",
       "28.0    113\n",
       "26.0    109\n",
       "30.0     98\n",
       "31.0     86\n",
       "29.0     82\n",
       "33.0     71\n",
       "32.0     65\n",
       "35.0     60\n",
       "34.0     55\n",
       "36.0     51\n",
       "37.0     51\n",
       "38.0     48\n",
       "39.0     29\n",
       "40.0     24\n",
       "41.0     18\n",
       "42.0     17\n",
       "43.0      8\n",
       "Name: Time_of_service, dtype: int64"
      ]
     },
     "execution_count": 44,
     "metadata": {},
     "output_type": "execute_result"
    }
   ],
   "source": [
    "data_frame_train[\"Time_of_service\"].value_counts()"
   ]
  },
  {
   "cell_type": "code",
   "execution_count": 45,
   "metadata": {},
   "outputs": [
    {
     "data": {
      "text/plain": [
       "0"
      ]
     },
     "execution_count": 45,
     "metadata": {},
     "output_type": "execute_result"
    }
   ],
   "source": [
    "data_frame_train[\"Time_of_service\"].isnull().sum()"
   ]
  },
  {
   "cell_type": "code",
   "execution_count": 46,
   "metadata": {},
   "outputs": [],
   "source": [
    "data_frame_train=data_frame_train.astype({\"Pay_Scale\":'object'})"
   ]
  },
  {
   "cell_type": "code",
   "execution_count": 47,
   "metadata": {},
   "outputs": [
    {
     "data": {
      "text/plain": [
       "Employee_ID                   object\n",
       "Gender                        object\n",
       "Age                          float64\n",
       "Education_Level               object\n",
       "Relationship_Status           object\n",
       "Hometown                      object\n",
       "Unit                          object\n",
       "Decision_skill_possess        object\n",
       "Time_of_service              float64\n",
       "Time_since_promotion           int64\n",
       "growth_rate                    int64\n",
       "Travel_Rate                    int64\n",
       "Post_Level                    object\n",
       "Pay_Scale                     object\n",
       "Compensation_and_Benefits     object\n",
       "Work_Life_balance            float64\n",
       "VAR1                           int64\n",
       "VAR2                         float64\n",
       "VAR3                         float64\n",
       "VAR4                         float64\n",
       "VAR5                           int64\n",
       "VAR6                           int64\n",
       "VAR7                           int64\n",
       "Attrition_rate               float64\n",
       "dtype: object"
      ]
     },
     "execution_count": 47,
     "metadata": {},
     "output_type": "execute_result"
    }
   ],
   "source": [
    "data_frame_train.dtypes"
   ]
  },
  {
   "cell_type": "code",
   "execution_count": 48,
   "metadata": {},
   "outputs": [
    {
     "data": {
      "text/plain": [
       "1    1819\n",
       "2    1811\n",
       "3    1703\n",
       "4    1505\n",
       "0     162\n",
       "Name: Time_since_promotion, dtype: int64"
      ]
     },
     "execution_count": 48,
     "metadata": {},
     "output_type": "execute_result"
    }
   ],
   "source": [
    "data_frame_train[\"Time_since_promotion\"].value_counts()"
   ]
  },
  {
   "cell_type": "code",
   "execution_count": 49,
   "metadata": {},
   "outputs": [
    {
     "data": {
      "text/plain": [
       "1.0    2042\n",
       "3.0    2023\n",
       "2.0    1615\n",
       "4.0    1197\n",
       "5.0     112\n",
       "Name: Work_Life_balance, dtype: int64"
      ]
     },
     "execution_count": 49,
     "metadata": {},
     "output_type": "execute_result"
    }
   ],
   "source": [
    "data_frame_train[\"Work_Life_balance\"].value_counts()"
   ]
  },
  {
   "cell_type": "code",
   "execution_count": 50,
   "metadata": {},
   "outputs": [],
   "source": [
    "x=data_frame_train[data_frame_train[\"Work_Life_balance\"].isnull()==True]"
   ]
  },
  {
   "cell_type": "code",
   "execution_count": 51,
   "metadata": {},
   "outputs": [
    {
     "data": {
      "text/html": [
       "<div>\n",
       "<style scoped>\n",
       "    .dataframe tbody tr th:only-of-type {\n",
       "        vertical-align: middle;\n",
       "    }\n",
       "\n",
       "    .dataframe tbody tr th {\n",
       "        vertical-align: top;\n",
       "    }\n",
       "\n",
       "    .dataframe thead th {\n",
       "        text-align: right;\n",
       "    }\n",
       "</style>\n",
       "<table border=\"1\" class=\"dataframe\">\n",
       "  <thead>\n",
       "    <tr style=\"text-align: right;\">\n",
       "      <th>Decision_skill_possess</th>\n",
       "      <th>0</th>\n",
       "      <th>1</th>\n",
       "      <th>2</th>\n",
       "      <th>3</th>\n",
       "    </tr>\n",
       "    <tr>\n",
       "      <th>Age</th>\n",
       "      <th></th>\n",
       "      <th></th>\n",
       "      <th></th>\n",
       "      <th></th>\n",
       "    </tr>\n",
       "  </thead>\n",
       "  <tbody>\n",
       "    <tr>\n",
       "      <th>21.0</th>\n",
       "      <td>0</td>\n",
       "      <td>0</td>\n",
       "      <td>1</td>\n",
       "      <td>0</td>\n",
       "    </tr>\n",
       "    <tr>\n",
       "      <th>29.0</th>\n",
       "      <td>0</td>\n",
       "      <td>0</td>\n",
       "      <td>0</td>\n",
       "      <td>1</td>\n",
       "    </tr>\n",
       "    <tr>\n",
       "      <th>30.0</th>\n",
       "      <td>0</td>\n",
       "      <td>0</td>\n",
       "      <td>0</td>\n",
       "      <td>1</td>\n",
       "    </tr>\n",
       "    <tr>\n",
       "      <th>35.0</th>\n",
       "      <td>0</td>\n",
       "      <td>0</td>\n",
       "      <td>0</td>\n",
       "      <td>1</td>\n",
       "    </tr>\n",
       "    <tr>\n",
       "      <th>37.0</th>\n",
       "      <td>1</td>\n",
       "      <td>1</td>\n",
       "      <td>0</td>\n",
       "      <td>0</td>\n",
       "    </tr>\n",
       "    <tr>\n",
       "      <th>42.0</th>\n",
       "      <td>0</td>\n",
       "      <td>0</td>\n",
       "      <td>1</td>\n",
       "      <td>0</td>\n",
       "    </tr>\n",
       "    <tr>\n",
       "      <th>43.0</th>\n",
       "      <td>1</td>\n",
       "      <td>0</td>\n",
       "      <td>0</td>\n",
       "      <td>0</td>\n",
       "    </tr>\n",
       "    <tr>\n",
       "      <th>48.0</th>\n",
       "      <td>0</td>\n",
       "      <td>0</td>\n",
       "      <td>0</td>\n",
       "      <td>1</td>\n",
       "    </tr>\n",
       "    <tr>\n",
       "      <th>52.0</th>\n",
       "      <td>0</td>\n",
       "      <td>0</td>\n",
       "      <td>0</td>\n",
       "      <td>1</td>\n",
       "    </tr>\n",
       "    <tr>\n",
       "      <th>64.0</th>\n",
       "      <td>0</td>\n",
       "      <td>0</td>\n",
       "      <td>0</td>\n",
       "      <td>1</td>\n",
       "    </tr>\n",
       "  </tbody>\n",
       "</table>\n",
       "</div>"
      ],
      "text/plain": [
       "Decision_skill_possess  0  1  2  3\n",
       "Age                               \n",
       "21.0                    0  0  1  0\n",
       "29.0                    0  0  0  1\n",
       "30.0                    0  0  0  1\n",
       "35.0                    0  0  0  1\n",
       "37.0                    1  1  0  0\n",
       "42.0                    0  0  1  0\n",
       "43.0                    1  0  0  0\n",
       "48.0                    0  0  0  1\n",
       "52.0                    0  0  0  1\n",
       "64.0                    0  0  0  1"
      ]
     },
     "execution_count": 51,
     "metadata": {},
     "output_type": "execute_result"
    }
   ],
   "source": [
    "pd.crosstab(x[\"Age\"],x[\"Decision_skill_possess\"])"
   ]
  },
  {
   "cell_type": "code",
   "execution_count": 52,
   "metadata": {},
   "outputs": [
    {
     "name": "stderr",
     "output_type": "stream",
     "text": [
      "C:\\Users\\AVM\\Anaconda3\\lib\\site-packages\\ipykernel_launcher.py:8: SettingWithCopyWarning: \n",
      "A value is trying to be set on a copy of a slice from a DataFrame\n",
      "\n",
      "See the caveats in the documentation: http://pandas.pydata.org/pandas-docs/stable/indexing.html#indexing-view-versus-copy\n",
      "  \n",
      "C:\\Users\\AVM\\Anaconda3\\lib\\site-packages\\ipykernel_launcher.py:4: SettingWithCopyWarning: \n",
      "A value is trying to be set on a copy of a slice from a DataFrame\n",
      "\n",
      "See the caveats in the documentation: http://pandas.pydata.org/pandas-docs/stable/indexing.html#indexing-view-versus-copy\n",
      "  after removing the cwd from sys.path.\n",
      "C:\\Users\\AVM\\Anaconda3\\lib\\site-packages\\ipykernel_launcher.py:10: SettingWithCopyWarning: \n",
      "A value is trying to be set on a copy of a slice from a DataFrame\n",
      "\n",
      "See the caveats in the documentation: http://pandas.pydata.org/pandas-docs/stable/indexing.html#indexing-view-versus-copy\n",
      "  # Remove the CWD from sys.path while we load stuff.\n",
      "C:\\Users\\AVM\\Anaconda3\\lib\\site-packages\\ipykernel_launcher.py:6: SettingWithCopyWarning: \n",
      "A value is trying to be set on a copy of a slice from a DataFrame\n",
      "\n",
      "See the caveats in the documentation: http://pandas.pydata.org/pandas-docs/stable/indexing.html#indexing-view-versus-copy\n",
      "  \n"
     ]
    }
   ],
   "source": [
    "for i in range(0,len(data_frame_train)):\n",
    "    if pd.isnull(data_frame_train[\"Work_Life_balance\"][i]):\n",
    "        if data_frame_train[\"Decision_skill_possess\"][i]<=1 and data_frame_train[\"Age\"][i]<=37:\n",
    "            data_frame_train[\"Work_Life_balance\"][i]=1.0\n",
    "        elif data_frame_train[\"Decision_skill_possess\"][i]<=1 and data_frame_train[\"Age\"][i]>37:\n",
    "            data_frame_train[\"Work_Life_balance\"][i]=2.0\n",
    "        elif data_frame_train[\"Decision_skill_possess\"][i]>1 and data_frame_train[\"Age\"][i]<37:\n",
    "            data_frame_train[\"Work_Life_balance\"][i]=3.0\n",
    "        elif data_frame_train[\"Decision_skill_possess\"][i]>1 and data_frame_train[\"Age\"][i]>37:\n",
    "            data_frame_train[\"Work_Life_balance\"][i]=5.0"
   ]
  },
  {
   "cell_type": "code",
   "execution_count": 53,
   "metadata": {},
   "outputs": [
    {
     "data": {
      "text/plain": [
       "1.0    2044\n",
       "3.0    2027\n",
       "2.0    1616\n",
       "4.0    1197\n",
       "5.0     116\n",
       "Name: Work_Life_balance, dtype: int64"
      ]
     },
     "execution_count": 53,
     "metadata": {},
     "output_type": "execute_result"
    }
   ],
   "source": [
    "data_frame_train[\"Work_Life_balance\"].value_counts()"
   ]
  },
  {
   "cell_type": "code",
   "execution_count": 54,
   "metadata": {},
   "outputs": [
    {
     "data": {
      "text/plain": [
       "Employee_ID                   object\n",
       "Gender                        object\n",
       "Age                          float64\n",
       "Education_Level               object\n",
       "Relationship_Status           object\n",
       "Hometown                      object\n",
       "Unit                          object\n",
       "Decision_skill_possess        object\n",
       "Time_of_service              float64\n",
       "Time_since_promotion           int64\n",
       "growth_rate                    int64\n",
       "Travel_Rate                    int64\n",
       "Post_Level                    object\n",
       "Pay_Scale                     object\n",
       "Compensation_and_Benefits     object\n",
       "Work_Life_balance            float64\n",
       "VAR1                           int64\n",
       "VAR2                         float64\n",
       "VAR3                         float64\n",
       "VAR4                         float64\n",
       "VAR5                           int64\n",
       "VAR6                           int64\n",
       "VAR7                           int64\n",
       "Attrition_rate               float64\n",
       "dtype: object"
      ]
     },
     "execution_count": 54,
     "metadata": {},
     "output_type": "execute_result"
    }
   ],
   "source": [
    "data_frame_train.dtypes"
   ]
  },
  {
   "cell_type": "code",
   "execution_count": 55,
   "metadata": {},
   "outputs": [
    {
     "data": {
      "text/plain": [
       "['Time_of_service', 'Pay_Scale', 'Work_Life_balance', 'VAR2', 'VAR4']"
      ]
     },
     "execution_count": 55,
     "metadata": {},
     "output_type": "execute_result"
    }
   ],
   "source": [
    "exceptions"
   ]
  },
  {
   "cell_type": "code",
   "execution_count": 56,
   "metadata": {},
   "outputs": [
    {
     "data": {
      "text/plain": [
       "1    3827\n",
       "0    2224\n",
       "2     949\n",
       "Name: Travel_Rate, dtype: int64"
      ]
     },
     "execution_count": 56,
     "metadata": {},
     "output_type": "execute_result"
    }
   ],
   "source": [
    "data_frame_train[\"Travel_Rate\"].value_counts(\n",
    ")"
   ]
  },
  {
   "cell_type": "code",
   "execution_count": 57,
   "metadata": {},
   "outputs": [],
   "source": [
    "data_frame_train=data_frame_train.astype({'Travel_Rate':'object',\"Time_since_promotion\":'object','Work_Life_balance':'object'})"
   ]
  },
  {
   "cell_type": "code",
   "execution_count": 58,
   "metadata": {},
   "outputs": [
    {
     "data": {
      "text/plain": [
       "Employee_ID                   object\n",
       "Gender                        object\n",
       "Age                          float64\n",
       "Education_Level               object\n",
       "Relationship_Status           object\n",
       "Hometown                      object\n",
       "Unit                          object\n",
       "Decision_skill_possess        object\n",
       "Time_of_service              float64\n",
       "Time_since_promotion          object\n",
       "growth_rate                    int64\n",
       "Travel_Rate                   object\n",
       "Post_Level                    object\n",
       "Pay_Scale                     object\n",
       "Compensation_and_Benefits     object\n",
       "Work_Life_balance             object\n",
       "VAR1                           int64\n",
       "VAR2                         float64\n",
       "VAR3                         float64\n",
       "VAR4                         float64\n",
       "VAR5                           int64\n",
       "VAR6                           int64\n",
       "VAR7                           int64\n",
       "Attrition_rate               float64\n",
       "dtype: object"
      ]
     },
     "execution_count": 58,
     "metadata": {},
     "output_type": "execute_result"
    }
   ],
   "source": [
    "data_frame_train.dtypes"
   ]
  },
  {
   "cell_type": "code",
   "execution_count": 59,
   "metadata": {},
   "outputs": [
    {
     "data": {
      "text/plain": [
       "Lebanon        2070\n",
       "Springfield    1736\n",
       "Franklin       1523\n",
       "Washington     1106\n",
       "Clinton         565\n",
       "Name: Hometown, dtype: int64"
      ]
     },
     "execution_count": 59,
     "metadata": {},
     "output_type": "execute_result"
    }
   ],
   "source": [
    "data_frame_train[\"Hometown\"].value_counts()"
   ]
  },
  {
   "cell_type": "code",
   "execution_count": 60,
   "metadata": {},
   "outputs": [],
   "source": [
    "data_frame_train[\"Hometown\"]=data_frame_train[\"Hometown\"].replace({'Lebanon':0,'Springfield':1,'Franklin':2,'Washington':3,'Clinton':4})"
   ]
  },
  {
   "cell_type": "code",
   "execution_count": 61,
   "metadata": {},
   "outputs": [
    {
     "data": {
      "text/plain": [
       "0    2070\n",
       "1    1736\n",
       "2    1523\n",
       "3    1106\n",
       "4     565\n",
       "Name: Hometown, dtype: int64"
      ]
     },
     "execution_count": 61,
     "metadata": {},
     "output_type": "execute_result"
    }
   ],
   "source": [
    "data_frame_train[\"Hometown\"].value_counts()"
   ]
  },
  {
   "cell_type": "code",
   "execution_count": 62,
   "metadata": {},
   "outputs": [],
   "source": [
    "data_frame_train=data_frame_train.astype({'Hometown':'object'})"
   ]
  },
  {
   "cell_type": "markdown",
   "metadata": {},
   "source": [
    "# Explanation\n",
    "\n",
    "Column Name,\tDescription<br>\n",
    "Employee_ID,\tUnique ID of each employee<br>\n",
    "Age,\tAge of each employee<br>\n",
    "Unit,\tDepartment under which the employee work<br>\n",
    "Education,\tRating of Qualification of an employee (1-5)<br>\n",
    "Gender,\tMale-0 or Female-1<br>\n",
    "Decision_skill_possess,\tDecision skill that an employee possesses<br>\n",
    "Post_Level,\tLevel of the post in an organization (1-5)<br>\n",
    "Relationship_Status,\tCategorical Married or Single <br>\n",
    "Pay_Scale,\tRate in between 1 to 10<br>\n",
    "Time_of_service,\tYears in the organization<br>\n",
    "growth_rate,\tGrowth rate in percentage of an employee<br>\n",
    "Time_since_promotion,\tTime in years since the last promotion<br>\n",
    "Work_Life_balance,\tRating for work-life balance given by an employee.<br>\n",
    "Travel_Rate,\tRating based on travel history(1-3)<br>\n",
    "Hometown,\tName of the city<br>\n",
    "Compensation_and_Benefits,\tCategorical Variabe<br>\n",
    "VAR1 - VAR5,\tAnominised variables<br>\n",
    "Attrition_rate(TARGET VARIABLE),\tAttrition rate of each employee<br>"
   ]
  },
  {
   "cell_type": "code",
   "execution_count": 63,
   "metadata": {},
   "outputs": [
    {
     "data": {
      "text/plain": [
       "type2    3945\n",
       "type3    2382\n",
       "type4     353\n",
       "type0     187\n",
       "type1     133\n",
       "Name: Compensation_and_Benefits, dtype: int64"
      ]
     },
     "execution_count": 63,
     "metadata": {},
     "output_type": "execute_result"
    }
   ],
   "source": [
    "data_frame_train[\"Compensation_and_Benefits\"].value_counts()"
   ]
  },
  {
   "cell_type": "code",
   "execution_count": 64,
   "metadata": {},
   "outputs": [],
   "source": [
    "data_frame_train[\"Compensation_and_Benefits\"].replace({'type0':0,'type1':1,'type2':2,'type3':3,'type4':4},inplace=True)"
   ]
  },
  {
   "cell_type": "code",
   "execution_count": 65,
   "metadata": {},
   "outputs": [
    {
     "data": {
      "text/plain": [
       "2    3945\n",
       "3    2382\n",
       "4     353\n",
       "0     187\n",
       "1     133\n",
       "Name: Compensation_and_Benefits, dtype: int64"
      ]
     },
     "execution_count": 65,
     "metadata": {},
     "output_type": "execute_result"
    }
   ],
   "source": [
    "data_frame_train[\"Compensation_and_Benefits\"].value_counts()"
   ]
  },
  {
   "cell_type": "code",
   "execution_count": 66,
   "metadata": {},
   "outputs": [],
   "source": [
    "data_frame_train=data_frame_train.astype({'Compensation_and_Benefits':'object'})"
   ]
  },
  {
   "cell_type": "code",
   "execution_count": 67,
   "metadata": {},
   "outputs": [
    {
     "data": {
      "text/plain": [
       "2    3945\n",
       "3    2382\n",
       "4     353\n",
       "0     187\n",
       "1     133\n",
       "Name: Compensation_and_Benefits, dtype: int64"
      ]
     },
     "execution_count": 67,
     "metadata": {},
     "output_type": "execute_result"
    }
   ],
   "source": [
    "data_frame_train[\"Compensation_and_Benefits\"].value_counts()"
   ]
  },
  {
   "cell_type": "code",
   "execution_count": 68,
   "metadata": {},
   "outputs": [
    {
     "data": {
      "text/plain": [
       "3    4193\n",
       "4    1372\n",
       "2     716\n",
       "5     368\n",
       "1     351\n",
       "Name: VAR1, dtype: int64"
      ]
     },
     "execution_count": 68,
     "metadata": {},
     "output_type": "execute_result"
    }
   ],
   "source": [
    "data_frame_train[\"VAR1\"].value_counts()"
   ]
  },
  {
   "cell_type": "code",
   "execution_count": 69,
   "metadata": {},
   "outputs": [],
   "source": [
    "data_frame_train[\"VAR2\"].fillna(data_frame_train[\"VAR2\"].mean(),inplace=True)"
   ]
  },
  {
   "cell_type": "code",
   "execution_count": 70,
   "metadata": {},
   "outputs": [
    {
     "data": {
      "text/plain": [
       " 0.751600    2458\n",
       "-0.104800    1629\n",
       "-0.961200    1047\n",
       "-1.817600     816\n",
       "-0.008126     577\n",
       " 1.608100     473\n",
       "Name: VAR2, dtype: int64"
      ]
     },
     "execution_count": 70,
     "metadata": {},
     "output_type": "execute_result"
    }
   ],
   "source": [
    "data_frame_train[\"VAR2\"].value_counts()"
   ]
  },
  {
   "cell_type": "code",
   "execution_count": 71,
   "metadata": {},
   "outputs": [],
   "source": [
    "data_frame_train[\"VAR4\"].fillna(2,inplace=True)"
   ]
  },
  {
   "cell_type": "code",
   "execution_count": 72,
   "metadata": {},
   "outputs": [
    {
     "data": {
      "text/plain": [
       "3    2435\n",
       "2    1786\n",
       "4    1046\n",
       "1    1035\n",
       "5     698\n",
       "Name: Post_Level, dtype: int64"
      ]
     },
     "execution_count": 72,
     "metadata": {},
     "output_type": "execute_result"
    }
   ],
   "source": [
    "data_frame_train[\"Post_Level\"].value_counts()"
   ]
  },
  {
   "cell_type": "code",
   "execution_count": 73,
   "metadata": {},
   "outputs": [],
   "source": [
    "data_frame_train=data_frame_train.astype({'Post_Level':'object'})"
   ]
  },
  {
   "cell_type": "code",
   "execution_count": 74,
   "metadata": {},
   "outputs": [
    {
     "data": {
      "text/plain": [
       "Employee_ID                   object\n",
       "Gender                        object\n",
       "Age                          float64\n",
       "Education_Level               object\n",
       "Relationship_Status           object\n",
       "Hometown                      object\n",
       "Unit                          object\n",
       "Decision_skill_possess        object\n",
       "Time_of_service              float64\n",
       "Time_since_promotion          object\n",
       "growth_rate                    int64\n",
       "Travel_Rate                   object\n",
       "Post_Level                    object\n",
       "Pay_Scale                     object\n",
       "Compensation_and_Benefits     object\n",
       "Work_Life_balance             object\n",
       "VAR1                           int64\n",
       "VAR2                         float64\n",
       "VAR3                         float64\n",
       "VAR4                         float64\n",
       "VAR5                           int64\n",
       "VAR6                           int64\n",
       "VAR7                           int64\n",
       "Attrition_rate               float64\n",
       "dtype: object"
      ]
     },
     "execution_count": 74,
     "metadata": {},
     "output_type": "execute_result"
    }
   ],
   "source": [
    "data_frame_train.dtypes"
   ]
  },
  {
   "cell_type": "markdown",
   "metadata": {},
   "source": [
    "# Preliminary Data Analysis"
   ]
  },
  {
   "cell_type": "code",
   "execution_count": 75,
   "metadata": {},
   "outputs": [],
   "source": [
    "x=data_frame_train.drop(columns=[\"Employee_ID\",\"Attrition_rate\"],axis=1)"
   ]
  },
  {
   "cell_type": "code",
   "execution_count": 76,
   "metadata": {},
   "outputs": [],
   "source": [
    "from sklearn.preprocessing import MinMaxScaler"
   ]
  },
  {
   "cell_type": "code",
   "execution_count": 77,
   "metadata": {},
   "outputs": [
    {
     "name": "stderr",
     "output_type": "stream",
     "text": [
      "C:\\Users\\AVM\\Anaconda3\\lib\\site-packages\\sklearn\\preprocessing\\data.py:334: DataConversionWarning: Data with input dtype int64, float64, object were all converted to float64 by MinMaxScaler.\n",
      "  return self.partial_fit(X, y)\n"
     ]
    },
    {
     "data": {
      "text/plain": [
       "Gender                       float64\n",
       "Age                          float64\n",
       "Education_Level              float64\n",
       "Relationship_Status          float64\n",
       "Hometown                     float64\n",
       "Unit                         float64\n",
       "Decision_skill_possess       float64\n",
       "Time_of_service              float64\n",
       "Time_since_promotion         float64\n",
       "growth_rate                  float64\n",
       "Travel_Rate                  float64\n",
       "Post_Level                   float64\n",
       "Pay_Scale                    float64\n",
       "Compensation_and_Benefits    float64\n",
       "Work_Life_balance            float64\n",
       "VAR1                         float64\n",
       "VAR2                         float64\n",
       "VAR3                         float64\n",
       "VAR4                         float64\n",
       "VAR5                         float64\n",
       "VAR6                         float64\n",
       "VAR7                         float64\n",
       "dtype: object"
      ]
     },
     "execution_count": 77,
     "metadata": {},
     "output_type": "execute_result"
    }
   ],
   "source": [
    "scaler=MinMaxScaler()\n",
    "y=scaler.fit_transform(x)\n",
    "x=pd.DataFrame(y,columns=x.columns)\n",
    "x.dtypes"
   ]
  },
  {
   "cell_type": "code",
   "execution_count": 78,
   "metadata": {},
   "outputs": [],
   "source": [
    "y=data_frame_train[\"Attrition_rate\"]"
   ]
  },
  {
   "cell_type": "code",
   "execution_count": 79,
   "metadata": {},
   "outputs": [],
   "source": [
    "from sklearn.model_selection import train_test_split"
   ]
  },
  {
   "cell_type": "code",
   "execution_count": 80,
   "metadata": {},
   "outputs": [],
   "source": [
    "train_x,test_x,train_y,test_y=train_test_split(x,y,random_state=42)"
   ]
  },
  {
   "cell_type": "code",
   "execution_count": 81,
   "metadata": {},
   "outputs": [
    {
     "data": {
      "text/html": [
       "<div>\n",
       "<style scoped>\n",
       "    .dataframe tbody tr th:only-of-type {\n",
       "        vertical-align: middle;\n",
       "    }\n",
       "\n",
       "    .dataframe tbody tr th {\n",
       "        vertical-align: top;\n",
       "    }\n",
       "\n",
       "    .dataframe thead th {\n",
       "        text-align: right;\n",
       "    }\n",
       "</style>\n",
       "<table border=\"1\" class=\"dataframe\">\n",
       "  <thead>\n",
       "    <tr style=\"text-align: right;\">\n",
       "      <th></th>\n",
       "      <th>Gender</th>\n",
       "      <th>Age</th>\n",
       "      <th>Education_Level</th>\n",
       "      <th>Relationship_Status</th>\n",
       "      <th>Hometown</th>\n",
       "      <th>Unit</th>\n",
       "      <th>Decision_skill_possess</th>\n",
       "      <th>Time_of_service</th>\n",
       "      <th>Time_since_promotion</th>\n",
       "      <th>growth_rate</th>\n",
       "      <th>...</th>\n",
       "      <th>Pay_Scale</th>\n",
       "      <th>Compensation_and_Benefits</th>\n",
       "      <th>Work_Life_balance</th>\n",
       "      <th>VAR1</th>\n",
       "      <th>VAR2</th>\n",
       "      <th>VAR3</th>\n",
       "      <th>VAR4</th>\n",
       "      <th>VAR5</th>\n",
       "      <th>VAR6</th>\n",
       "      <th>VAR7</th>\n",
       "    </tr>\n",
       "  </thead>\n",
       "  <tbody>\n",
       "    <tr>\n",
       "      <th>2302</th>\n",
       "      <td>1.0</td>\n",
       "      <td>0.695652</td>\n",
       "      <td>0.75</td>\n",
       "      <td>1.0</td>\n",
       "      <td>1.00</td>\n",
       "      <td>0.000000</td>\n",
       "      <td>0.333333</td>\n",
       "      <td>0.465116</td>\n",
       "      <td>0.25</td>\n",
       "      <td>0.222222</td>\n",
       "      <td>...</td>\n",
       "      <td>0.777778</td>\n",
       "      <td>0.75</td>\n",
       "      <td>0.00</td>\n",
       "      <td>0.75</td>\n",
       "      <td>0.499985</td>\n",
       "      <td>0.500000</td>\n",
       "      <td>0.5</td>\n",
       "      <td>0.00</td>\n",
       "      <td>0.50</td>\n",
       "      <td>0.75</td>\n",
       "    </tr>\n",
       "    <tr>\n",
       "      <th>1468</th>\n",
       "      <td>0.0</td>\n",
       "      <td>0.304348</td>\n",
       "      <td>1.00</td>\n",
       "      <td>0.0</td>\n",
       "      <td>0.25</td>\n",
       "      <td>0.545455</td>\n",
       "      <td>0.000000</td>\n",
       "      <td>0.209302</td>\n",
       "      <td>1.00</td>\n",
       "      <td>0.648148</td>\n",
       "      <td>...</td>\n",
       "      <td>0.777778</td>\n",
       "      <td>0.50</td>\n",
       "      <td>0.00</td>\n",
       "      <td>0.50</td>\n",
       "      <td>0.749978</td>\n",
       "      <td>0.500000</td>\n",
       "      <td>0.5</td>\n",
       "      <td>0.50</td>\n",
       "      <td>1.00</td>\n",
       "      <td>1.00</td>\n",
       "    </tr>\n",
       "    <tr>\n",
       "      <th>5144</th>\n",
       "      <td>0.0</td>\n",
       "      <td>0.826087</td>\n",
       "      <td>0.25</td>\n",
       "      <td>1.0</td>\n",
       "      <td>0.50</td>\n",
       "      <td>0.000000</td>\n",
       "      <td>1.000000</td>\n",
       "      <td>0.651163</td>\n",
       "      <td>0.50</td>\n",
       "      <td>0.148148</td>\n",
       "      <td>...</td>\n",
       "      <td>0.555556</td>\n",
       "      <td>0.50</td>\n",
       "      <td>0.50</td>\n",
       "      <td>0.50</td>\n",
       "      <td>0.000000</td>\n",
       "      <td>0.500000</td>\n",
       "      <td>0.5</td>\n",
       "      <td>0.25</td>\n",
       "      <td>0.50</td>\n",
       "      <td>0.50</td>\n",
       "    </tr>\n",
       "    <tr>\n",
       "      <th>2963</th>\n",
       "      <td>0.0</td>\n",
       "      <td>0.130435</td>\n",
       "      <td>1.00</td>\n",
       "      <td>1.0</td>\n",
       "      <td>0.50</td>\n",
       "      <td>0.636364</td>\n",
       "      <td>0.333333</td>\n",
       "      <td>0.139535</td>\n",
       "      <td>0.25</td>\n",
       "      <td>0.111111</td>\n",
       "      <td>...</td>\n",
       "      <td>1.000000</td>\n",
       "      <td>0.50</td>\n",
       "      <td>0.25</td>\n",
       "      <td>0.50</td>\n",
       "      <td>0.249993</td>\n",
       "      <td>0.500000</td>\n",
       "      <td>1.0</td>\n",
       "      <td>0.50</td>\n",
       "      <td>0.75</td>\n",
       "      <td>0.25</td>\n",
       "    </tr>\n",
       "    <tr>\n",
       "      <th>6131</th>\n",
       "      <td>1.0</td>\n",
       "      <td>0.086957</td>\n",
       "      <td>0.75</td>\n",
       "      <td>1.0</td>\n",
       "      <td>0.50</td>\n",
       "      <td>0.000000</td>\n",
       "      <td>0.666667</td>\n",
       "      <td>0.093023</td>\n",
       "      <td>0.75</td>\n",
       "      <td>0.981481</td>\n",
       "      <td>...</td>\n",
       "      <td>0.777778</td>\n",
       "      <td>0.75</td>\n",
       "      <td>0.50</td>\n",
       "      <td>0.50</td>\n",
       "      <td>0.528206</td>\n",
       "      <td>0.749989</td>\n",
       "      <td>0.5</td>\n",
       "      <td>0.50</td>\n",
       "      <td>0.75</td>\n",
       "      <td>0.75</td>\n",
       "    </tr>\n",
       "  </tbody>\n",
       "</table>\n",
       "<p>5 rows × 22 columns</p>\n",
       "</div>"
      ],
      "text/plain": [
       "      Gender       Age  Education_Level  Relationship_Status  Hometown  \\\n",
       "2302     1.0  0.695652             0.75                  1.0      1.00   \n",
       "1468     0.0  0.304348             1.00                  0.0      0.25   \n",
       "5144     0.0  0.826087             0.25                  1.0      0.50   \n",
       "2963     0.0  0.130435             1.00                  1.0      0.50   \n",
       "6131     1.0  0.086957             0.75                  1.0      0.50   \n",
       "\n",
       "          Unit  Decision_skill_possess  Time_of_service  Time_since_promotion  \\\n",
       "2302  0.000000                0.333333         0.465116                  0.25   \n",
       "1468  0.545455                0.000000         0.209302                  1.00   \n",
       "5144  0.000000                1.000000         0.651163                  0.50   \n",
       "2963  0.636364                0.333333         0.139535                  0.25   \n",
       "6131  0.000000                0.666667         0.093023                  0.75   \n",
       "\n",
       "      growth_rate  ...  Pay_Scale  Compensation_and_Benefits  \\\n",
       "2302     0.222222  ...   0.777778                       0.75   \n",
       "1468     0.648148  ...   0.777778                       0.50   \n",
       "5144     0.148148  ...   0.555556                       0.50   \n",
       "2963     0.111111  ...   1.000000                       0.50   \n",
       "6131     0.981481  ...   0.777778                       0.75   \n",
       "\n",
       "      Work_Life_balance  VAR1      VAR2      VAR3  VAR4  VAR5  VAR6  VAR7  \n",
       "2302               0.00  0.75  0.499985  0.500000   0.5  0.00  0.50  0.75  \n",
       "1468               0.00  0.50  0.749978  0.500000   0.5  0.50  1.00  1.00  \n",
       "5144               0.50  0.50  0.000000  0.500000   0.5  0.25  0.50  0.50  \n",
       "2963               0.25  0.50  0.249993  0.500000   1.0  0.50  0.75  0.25  \n",
       "6131               0.50  0.50  0.528206  0.749989   0.5  0.50  0.75  0.75  \n",
       "\n",
       "[5 rows x 22 columns]"
      ]
     },
     "execution_count": 81,
     "metadata": {},
     "output_type": "execute_result"
    }
   ],
   "source": [
    "train_x.head()"
   ]
  },
  {
   "cell_type": "code",
   "execution_count": 82,
   "metadata": {},
   "outputs": [
    {
     "data": {
      "text/html": [
       "<div>\n",
       "<style scoped>\n",
       "    .dataframe tbody tr th:only-of-type {\n",
       "        vertical-align: middle;\n",
       "    }\n",
       "\n",
       "    .dataframe tbody tr th {\n",
       "        vertical-align: top;\n",
       "    }\n",
       "\n",
       "    .dataframe thead th {\n",
       "        text-align: right;\n",
       "    }\n",
       "</style>\n",
       "<table border=\"1\" class=\"dataframe\">\n",
       "  <thead>\n",
       "    <tr style=\"text-align: right;\">\n",
       "      <th></th>\n",
       "      <th>Gender</th>\n",
       "      <th>Age</th>\n",
       "      <th>Education_Level</th>\n",
       "      <th>Relationship_Status</th>\n",
       "      <th>Hometown</th>\n",
       "      <th>Unit</th>\n",
       "      <th>Decision_skill_possess</th>\n",
       "      <th>Time_of_service</th>\n",
       "      <th>Time_since_promotion</th>\n",
       "      <th>growth_rate</th>\n",
       "      <th>...</th>\n",
       "      <th>Pay_Scale</th>\n",
       "      <th>Compensation_and_Benefits</th>\n",
       "      <th>Work_Life_balance</th>\n",
       "      <th>VAR1</th>\n",
       "      <th>VAR2</th>\n",
       "      <th>VAR3</th>\n",
       "      <th>VAR4</th>\n",
       "      <th>VAR5</th>\n",
       "      <th>VAR6</th>\n",
       "      <th>VAR7</th>\n",
       "    </tr>\n",
       "  </thead>\n",
       "  <tbody>\n",
       "    <tr>\n",
       "      <th>6500</th>\n",
       "      <td>0.0</td>\n",
       "      <td>0.347826</td>\n",
       "      <td>0.00</td>\n",
       "      <td>0.0</td>\n",
       "      <td>0.00</td>\n",
       "      <td>1.000000</td>\n",
       "      <td>0.000000</td>\n",
       "      <td>0.279070</td>\n",
       "      <td>1.00</td>\n",
       "      <td>0.648148</td>\n",
       "      <td>...</td>\n",
       "      <td>0.333333</td>\n",
       "      <td>0.5</td>\n",
       "      <td>0.75</td>\n",
       "      <td>0.50</td>\n",
       "      <td>0.000000</td>\n",
       "      <td>1.000000</td>\n",
       "      <td>0.5</td>\n",
       "      <td>0.75</td>\n",
       "      <td>0.75</td>\n",
       "      <td>0.25</td>\n",
       "    </tr>\n",
       "    <tr>\n",
       "      <th>2944</th>\n",
       "      <td>1.0</td>\n",
       "      <td>0.543478</td>\n",
       "      <td>0.75</td>\n",
       "      <td>0.0</td>\n",
       "      <td>0.50</td>\n",
       "      <td>0.181818</td>\n",
       "      <td>1.000000</td>\n",
       "      <td>0.488372</td>\n",
       "      <td>1.00</td>\n",
       "      <td>0.500000</td>\n",
       "      <td>...</td>\n",
       "      <td>0.666667</td>\n",
       "      <td>0.5</td>\n",
       "      <td>0.50</td>\n",
       "      <td>0.50</td>\n",
       "      <td>0.000000</td>\n",
       "      <td>0.749989</td>\n",
       "      <td>0.5</td>\n",
       "      <td>0.50</td>\n",
       "      <td>0.25</td>\n",
       "      <td>0.75</td>\n",
       "    </tr>\n",
       "    <tr>\n",
       "      <th>2024</th>\n",
       "      <td>1.0</td>\n",
       "      <td>0.347826</td>\n",
       "      <td>0.75</td>\n",
       "      <td>0.0</td>\n",
       "      <td>0.50</td>\n",
       "      <td>0.272727</td>\n",
       "      <td>0.666667</td>\n",
       "      <td>0.302326</td>\n",
       "      <td>0.25</td>\n",
       "      <td>0.685185</td>\n",
       "      <td>...</td>\n",
       "      <td>0.555556</td>\n",
       "      <td>0.5</td>\n",
       "      <td>0.50</td>\n",
       "      <td>0.75</td>\n",
       "      <td>0.528206</td>\n",
       "      <td>0.500000</td>\n",
       "      <td>0.5</td>\n",
       "      <td>0.50</td>\n",
       "      <td>0.00</td>\n",
       "      <td>0.50</td>\n",
       "    </tr>\n",
       "    <tr>\n",
       "      <th>263</th>\n",
       "      <td>1.0</td>\n",
       "      <td>0.195652</td>\n",
       "      <td>0.75</td>\n",
       "      <td>0.0</td>\n",
       "      <td>0.25</td>\n",
       "      <td>0.181818</td>\n",
       "      <td>0.000000</td>\n",
       "      <td>0.116279</td>\n",
       "      <td>0.25</td>\n",
       "      <td>0.574074</td>\n",
       "      <td>...</td>\n",
       "      <td>0.777778</td>\n",
       "      <td>0.5</td>\n",
       "      <td>0.00</td>\n",
       "      <td>0.25</td>\n",
       "      <td>0.499985</td>\n",
       "      <td>0.500000</td>\n",
       "      <td>0.5</td>\n",
       "      <td>0.25</td>\n",
       "      <td>0.50</td>\n",
       "      <td>0.25</td>\n",
       "    </tr>\n",
       "    <tr>\n",
       "      <th>4350</th>\n",
       "      <td>1.0</td>\n",
       "      <td>0.086957</td>\n",
       "      <td>0.75</td>\n",
       "      <td>0.0</td>\n",
       "      <td>0.50</td>\n",
       "      <td>0.090909</td>\n",
       "      <td>1.000000</td>\n",
       "      <td>0.093023</td>\n",
       "      <td>0.50</td>\n",
       "      <td>0.944444</td>\n",
       "      <td>...</td>\n",
       "      <td>0.555556</td>\n",
       "      <td>0.5</td>\n",
       "      <td>0.50</td>\n",
       "      <td>0.50</td>\n",
       "      <td>0.749978</td>\n",
       "      <td>0.749989</td>\n",
       "      <td>0.5</td>\n",
       "      <td>1.00</td>\n",
       "      <td>0.50</td>\n",
       "      <td>0.50</td>\n",
       "    </tr>\n",
       "  </tbody>\n",
       "</table>\n",
       "<p>5 rows × 22 columns</p>\n",
       "</div>"
      ],
      "text/plain": [
       "      Gender       Age  Education_Level  Relationship_Status  Hometown  \\\n",
       "6500     0.0  0.347826             0.00                  0.0      0.00   \n",
       "2944     1.0  0.543478             0.75                  0.0      0.50   \n",
       "2024     1.0  0.347826             0.75                  0.0      0.50   \n",
       "263      1.0  0.195652             0.75                  0.0      0.25   \n",
       "4350     1.0  0.086957             0.75                  0.0      0.50   \n",
       "\n",
       "          Unit  Decision_skill_possess  Time_of_service  Time_since_promotion  \\\n",
       "6500  1.000000                0.000000         0.279070                  1.00   \n",
       "2944  0.181818                1.000000         0.488372                  1.00   \n",
       "2024  0.272727                0.666667         0.302326                  0.25   \n",
       "263   0.181818                0.000000         0.116279                  0.25   \n",
       "4350  0.090909                1.000000         0.093023                  0.50   \n",
       "\n",
       "      growth_rate  ...  Pay_Scale  Compensation_and_Benefits  \\\n",
       "6500     0.648148  ...   0.333333                        0.5   \n",
       "2944     0.500000  ...   0.666667                        0.5   \n",
       "2024     0.685185  ...   0.555556                        0.5   \n",
       "263      0.574074  ...   0.777778                        0.5   \n",
       "4350     0.944444  ...   0.555556                        0.5   \n",
       "\n",
       "      Work_Life_balance  VAR1      VAR2      VAR3  VAR4  VAR5  VAR6  VAR7  \n",
       "6500               0.75  0.50  0.000000  1.000000   0.5  0.75  0.75  0.25  \n",
       "2944               0.50  0.50  0.000000  0.749989   0.5  0.50  0.25  0.75  \n",
       "2024               0.50  0.75  0.528206  0.500000   0.5  0.50  0.00  0.50  \n",
       "263                0.00  0.25  0.499985  0.500000   0.5  0.25  0.50  0.25  \n",
       "4350               0.50  0.50  0.749978  0.749989   0.5  1.00  0.50  0.50  \n",
       "\n",
       "[5 rows x 22 columns]"
      ]
     },
     "execution_count": 82,
     "metadata": {},
     "output_type": "execute_result"
    }
   ],
   "source": [
    "test_x.head()"
   ]
  },
  {
   "cell_type": "markdown",
   "metadata": {},
   "source": [
    "# Models"
   ]
  },
  {
   "cell_type": "markdown",
   "metadata": {},
   "source": [
    "<h3>KNN</h3>"
   ]
  },
  {
   "cell_type": "code",
   "execution_count": 83,
   "metadata": {},
   "outputs": [],
   "source": [
    "from sklearn.neighbors import KNeighborsRegressor\n",
    "from sklearn.metrics import mean_squared_error"
   ]
  },
  {
   "cell_type": "code",
   "execution_count": 84,
   "metadata": {},
   "outputs": [],
   "source": [
    "model=KNeighborsRegressor()\n",
    "model.fit(train_x,train_y)\n",
    "pred=model.predict(test_x)"
   ]
  },
  {
   "cell_type": "code",
   "execution_count": 85,
   "metadata": {},
   "outputs": [],
   "source": [
    "score=mean_squared_error(pred,test_y)"
   ]
  },
  {
   "cell_type": "code",
   "execution_count": 86,
   "metadata": {},
   "outputs": [],
   "source": [
    "def get_k_val():\n",
    "    errors=[]\n",
    "    for i in range(5,31):\n",
    "        model=KNeighborsRegressor(n_neighbors=i)\n",
    "        model.fit(train_x,train_y)\n",
    "        pred=model.predict(test_x)\n",
    "        error=mean_squared_error(pred,test_y)\n",
    "        errors.append(error)\n",
    "    return errors"
   ]
  },
  {
   "cell_type": "code",
   "execution_count": 171,
   "metadata": {},
   "outputs": [
    {
     "data": {
      "image/png": "[encoded data removed]",
      "text/plain": [
       "<Figure size 432x288 with 1 Axes>"
      ]
     },
     "metadata": {
      "needs_background": "light"
     },
     "output_type": "display_data"
    }
   ],
   "source": [
    "errors=get_k_val()\n",
    "plt.plot(range(5,31),errors)\n",
    "plt.show()"
   ]
  },
  {
   "cell_type": "code",
   "execution_count": 172,
   "metadata": {},
   "outputs": [
    {
     "name": "stdout",
     "output_type": "stream",
     "text": [
      "96.45743455783452\n"
     ]
    }
   ],
   "source": [
    "#at 14 neighbors we achieve a high score\n",
    "model=KNeighborsRegressor(n_neighbors=23)\n",
    "model.fit(train_x,train_y)\n",
    "pred_knn=model.predict(test_x)\n",
    "error=mean_squared_error(pred,test_y)\n",
    "print((1-error)*100)"
   ]
  },
  {
   "cell_type": "markdown",
   "metadata": {},
   "source": [
    "# Linear Regression "
   ]
  },
  {
   "cell_type": "code",
   "execution_count": 173,
   "metadata": {},
   "outputs": [
    {
     "name": "stdout",
     "output_type": "stream",
     "text": [
      "96.45743455783452\n"
     ]
    }
   ],
   "source": [
    "from sklearn.linear_model import LinearRegression\n",
    "\n",
    "model_linear=LinearRegression()\n",
    "model_linear.fit(train_x,train_y)\n",
    "pred=model_linear.predict(test_x)\n",
    "pred_error=mean_squared_error(pred,test_y)\n",
    "print((1-pred_error)*100)"
   ]
  },
  {
   "cell_type": "code",
   "execution_count": 90,
   "metadata": {},
   "outputs": [],
   "source": [
    "train_error=mean_squared_error(model_linear.predict(train_x),train_y)"
   ]
  },
  {
   "cell_type": "code",
   "execution_count": 91,
   "metadata": {},
   "outputs": [
    {
     "name": "stdout",
     "output_type": "stream",
     "text": [
      "96.5992816933325\n"
     ]
    }
   ],
   "source": [
    "print((1-train_error)*100)"
   ]
  },
  {
   "cell_type": "markdown",
   "metadata": {},
   "source": [
    "# Random Forest"
   ]
  },
  {
   "cell_type": "code",
   "execution_count": 149,
   "metadata": {},
   "outputs": [
    {
     "name": "stderr",
     "output_type": "stream",
     "text": [
      "C:\\Users\\AVM\\Anaconda3\\lib\\site-packages\\sklearn\\ensemble\\forest.py:246: FutureWarning: The default value of n_estimators will change from 10 in version 0.20 to 100 in 0.22.\n",
      "  \"10 in version 0.20 to 100 in 0.22.\", FutureWarning)\n"
     ]
    },
    {
     "name": "stdout",
     "output_type": "stream",
     "text": [
      "95.91025484994192\n"
     ]
    }
   ],
   "source": [
    "from sklearn.ensemble import RandomForestRegressor\n",
    "\n",
    "model_rf=RandomForestRegressor()\n",
    "model_rf.fit(train_x,train_y)\n",
    "pred_rf=model_rf.predict(test_x)\n",
    "error_rf=mean_squared_error(pred_rf,test_y)\n",
    "print((1-error_rf)*100)"
   ]
  },
  {
   "cell_type": "code",
   "execution_count": 152,
   "metadata": {},
   "outputs": [],
   "source": [
    "from ipywidgets import interact"
   ]
  },
  {
   "cell_type": "code",
   "execution_count": 156,
   "metadata": {},
   "outputs": [
    {
     "data": {
      "application/vnd.jupyter.widget-view+json": {
       "model_id": "899600a5abed4bdfa389233131f8729a",
       "version_major": 2,
       "version_minor": 0
      },
      "text/plain": [
       "interactive(children=(Dropdown(description='bootstrap', options=(True, False), value=True), IntSlider(value=7,…"
      ]
     },
     "metadata": {},
     "output_type": "display_data"
    }
   ],
   "source": [
    "import warnings\n",
    "warnings.filterwarnings('ignore')\n",
    "@interact(bootstrap=[True,False],n_jobs=(3,12),\n",
    "                 max_depth=(5,30),\n",
    "                 max_leaf_nodes=(1,20),\n",
    "                 min_impurity_split=(0.1,0.4,0.01),\n",
    "                 min_samples_split=(10,100,10))\n",
    "def rf_tune(bootstrap,n_jobs,max_depth,max_leaf_nodes,min_impurity_split,min_samples_split):\n",
    "    model_rf=RandomForestRegressor(n_jobs=n_jobs,max_depth=max_depth,bootstrap=bootstrap,max_leaf_nodes=max_leaf_nodes,\n",
    "                     min_impurity_split=min_impurity_split,min_samples_split=min_samples_split)\n",
    "    model_rf.fit(train_x,train_y)\n",
    "    pred_rf=model_rf.predict(test_x)\n",
    "    error_rf=mean_squared_error(pred_rf,test_y)\n",
    "    print((1-error_rf)*100)"
   ]
  },
  {
   "cell_type": "code",
   "execution_count": null,
   "metadata": {},
   "outputs": [],
   "source": []
  },
  {
   "cell_type": "code",
   "execution_count": null,
   "metadata": {},
   "outputs": [],
   "source": []
  },
  {
   "cell_type": "code",
   "execution_count": null,
   "metadata": {},
   "outputs": [],
   "source": []
  },
  {
   "cell_type": "code",
   "execution_count": null,
   "metadata": {},
   "outputs": [],
   "source": []
  },
  {
   "cell_type": "code",
   "execution_count": null,
   "metadata": {},
   "outputs": [],
   "source": []
  },
  {
   "cell_type": "code",
   "execution_count": null,
   "metadata": {},
   "outputs": [],
   "source": []
  },
  {
   "cell_type": "code",
   "execution_count": null,
   "metadata": {},
   "outputs": [],
   "source": []
  },
  {
   "cell_type": "code",
   "execution_count": null,
   "metadata": {},
   "outputs": [],
   "source": []
  },
  {
   "cell_type": "code",
   "execution_count": null,
   "metadata": {},
   "outputs": [],
   "source": []
  },
  {
   "cell_type": "code",
   "execution_count": null,
   "metadata": {},
   "outputs": [],
   "source": []
  },
  {
   "cell_type": "code",
   "execution_count": null,
   "metadata": {},
   "outputs": [],
   "source": []
  },
  {
   "cell_type": "code",
   "execution_count": 92,
   "metadata": {},
   "outputs": [
    {
     "name": "stdout",
     "output_type": "stream",
     "text": [
      "96.86057814460739\n"
     ]
    }
   ],
   "source": [
    "#train_dataset Score\n",
    "print((1-mean_squared_error(model.predict(train_x),train_y))*100)"
   ]
  },
  {
   "cell_type": "code",
   "execution_count": 93,
   "metadata": {},
   "outputs": [],
   "source": [
    "data_frame_test=pd.read_csv(\"Test.csv\")"
   ]
  },
  {
   "cell_type": "code",
   "execution_count": 94,
   "metadata": {},
   "outputs": [
    {
     "data": {
      "text/html": [
       "<div>\n",
       "<style scoped>\n",
       "    .dataframe tbody tr th:only-of-type {\n",
       "        vertical-align: middle;\n",
       "    }\n",
       "\n",
       "    .dataframe tbody tr th {\n",
       "        vertical-align: top;\n",
       "    }\n",
       "\n",
       "    .dataframe thead th {\n",
       "        text-align: right;\n",
       "    }\n",
       "</style>\n",
       "<table border=\"1\" class=\"dataframe\">\n",
       "  <thead>\n",
       "    <tr style=\"text-align: right;\">\n",
       "      <th></th>\n",
       "      <th>Employee_ID</th>\n",
       "      <th>Gender</th>\n",
       "      <th>Age</th>\n",
       "      <th>Education_Level</th>\n",
       "      <th>Relationship_Status</th>\n",
       "      <th>Hometown</th>\n",
       "      <th>Unit</th>\n",
       "      <th>Decision_skill_possess</th>\n",
       "      <th>Time_of_service</th>\n",
       "      <th>Time_since_promotion</th>\n",
       "      <th>...</th>\n",
       "      <th>Pay_Scale</th>\n",
       "      <th>Compensation_and_Benefits</th>\n",
       "      <th>Work_Life_balance</th>\n",
       "      <th>VAR1</th>\n",
       "      <th>VAR2</th>\n",
       "      <th>VAR3</th>\n",
       "      <th>VAR4</th>\n",
       "      <th>VAR5</th>\n",
       "      <th>VAR6</th>\n",
       "      <th>VAR7</th>\n",
       "    </tr>\n",
       "  </thead>\n",
       "  <tbody>\n",
       "    <tr>\n",
       "      <th>0</th>\n",
       "      <td>EID_22713</td>\n",
       "      <td>F</td>\n",
       "      <td>32.0</td>\n",
       "      <td>5</td>\n",
       "      <td>Single</td>\n",
       "      <td>Springfield</td>\n",
       "      <td>R&amp;D</td>\n",
       "      <td>Conceptual</td>\n",
       "      <td>7.0</td>\n",
       "      <td>4</td>\n",
       "      <td>...</td>\n",
       "      <td>4.0</td>\n",
       "      <td>type2</td>\n",
       "      <td>1.0</td>\n",
       "      <td>3</td>\n",
       "      <td>-0.9612</td>\n",
       "      <td>-0.4537</td>\n",
       "      <td>2.0</td>\n",
       "      <td>1</td>\n",
       "      <td>8</td>\n",
       "      <td>4</td>\n",
       "    </tr>\n",
       "    <tr>\n",
       "      <th>1</th>\n",
       "      <td>EID_9658</td>\n",
       "      <td>M</td>\n",
       "      <td>65.0</td>\n",
       "      <td>2</td>\n",
       "      <td>Single</td>\n",
       "      <td>Lebanon</td>\n",
       "      <td>IT</td>\n",
       "      <td>Directive</td>\n",
       "      <td>41.0</td>\n",
       "      <td>2</td>\n",
       "      <td>...</td>\n",
       "      <td>1.0</td>\n",
       "      <td>type2</td>\n",
       "      <td>1.0</td>\n",
       "      <td>4</td>\n",
       "      <td>-0.9612</td>\n",
       "      <td>0.7075</td>\n",
       "      <td>1.0</td>\n",
       "      <td>2</td>\n",
       "      <td>8</td>\n",
       "      <td>2</td>\n",
       "    </tr>\n",
       "    <tr>\n",
       "      <th>2</th>\n",
       "      <td>EID_22203</td>\n",
       "      <td>M</td>\n",
       "      <td>52.0</td>\n",
       "      <td>3</td>\n",
       "      <td>Married</td>\n",
       "      <td>Springfield</td>\n",
       "      <td>Sales</td>\n",
       "      <td>Directive</td>\n",
       "      <td>21.0</td>\n",
       "      <td>3</td>\n",
       "      <td>...</td>\n",
       "      <td>8.0</td>\n",
       "      <td>type3</td>\n",
       "      <td>1.0</td>\n",
       "      <td>4</td>\n",
       "      <td>-0.1048</td>\n",
       "      <td>0.7075</td>\n",
       "      <td>2.0</td>\n",
       "      <td>1</td>\n",
       "      <td>9</td>\n",
       "      <td>3</td>\n",
       "    </tr>\n",
       "    <tr>\n",
       "      <th>3</th>\n",
       "      <td>EID_7652</td>\n",
       "      <td>M</td>\n",
       "      <td>50.0</td>\n",
       "      <td>5</td>\n",
       "      <td>Single</td>\n",
       "      <td>Washington</td>\n",
       "      <td>Marketing</td>\n",
       "      <td>Analytical</td>\n",
       "      <td>11.0</td>\n",
       "      <td>4</td>\n",
       "      <td>...</td>\n",
       "      <td>2.0</td>\n",
       "      <td>type0</td>\n",
       "      <td>4.0</td>\n",
       "      <td>3</td>\n",
       "      <td>-0.1048</td>\n",
       "      <td>0.7075</td>\n",
       "      <td>2.0</td>\n",
       "      <td>2</td>\n",
       "      <td>8</td>\n",
       "      <td>3</td>\n",
       "    </tr>\n",
       "    <tr>\n",
       "      <th>4</th>\n",
       "      <td>EID_6516</td>\n",
       "      <td>F</td>\n",
       "      <td>44.0</td>\n",
       "      <td>3</td>\n",
       "      <td>Married</td>\n",
       "      <td>Franklin</td>\n",
       "      <td>R&amp;D</td>\n",
       "      <td>Conceptual</td>\n",
       "      <td>12.0</td>\n",
       "      <td>4</td>\n",
       "      <td>...</td>\n",
       "      <td>2.0</td>\n",
       "      <td>type2</td>\n",
       "      <td>4.0</td>\n",
       "      <td>4</td>\n",
       "      <td>1.6081</td>\n",
       "      <td>0.7075</td>\n",
       "      <td>2.0</td>\n",
       "      <td>2</td>\n",
       "      <td>7</td>\n",
       "      <td>4</td>\n",
       "    </tr>\n",
       "  </tbody>\n",
       "</table>\n",
       "<p>5 rows × 23 columns</p>\n",
       "</div>"
      ],
      "text/plain": [
       "  Employee_ID Gender   Age  Education_Level Relationship_Status     Hometown  \\\n",
       "0   EID_22713      F  32.0                5              Single  Springfield   \n",
       "1    EID_9658      M  65.0                2              Single      Lebanon   \n",
       "2   EID_22203      M  52.0                3             Married  Springfield   \n",
       "3    EID_7652      M  50.0                5              Single   Washington   \n",
       "4    EID_6516      F  44.0                3             Married     Franklin   \n",
       "\n",
       "        Unit Decision_skill_possess  Time_of_service  Time_since_promotion  \\\n",
       "0        R&D             Conceptual              7.0                     4   \n",
       "1         IT              Directive             41.0                     2   \n",
       "2      Sales              Directive             21.0                     3   \n",
       "3  Marketing             Analytical             11.0                     4   \n",
       "4        R&D             Conceptual             12.0                     4   \n",
       "\n",
       "   ...  Pay_Scale  Compensation_and_Benefits  Work_Life_balance  VAR1    VAR2  \\\n",
       "0  ...        4.0                      type2                1.0     3 -0.9612   \n",
       "1  ...        1.0                      type2                1.0     4 -0.9612   \n",
       "2  ...        8.0                      type3                1.0     4 -0.1048   \n",
       "3  ...        2.0                      type0                4.0     3 -0.1048   \n",
       "4  ...        2.0                      type2                4.0     4  1.6081   \n",
       "\n",
       "     VAR3  VAR4  VAR5  VAR6  VAR7  \n",
       "0 -0.4537   2.0     1     8     4  \n",
       "1  0.7075   1.0     2     8     2  \n",
       "2  0.7075   2.0     1     9     3  \n",
       "3  0.7075   2.0     2     8     3  \n",
       "4  0.7075   2.0     2     7     4  \n",
       "\n",
       "[5 rows x 23 columns]"
      ]
     },
     "execution_count": 94,
     "metadata": {},
     "output_type": "execute_result"
    }
   ],
   "source": [
    "data_frame_test.head()"
   ]
  },
  {
   "cell_type": "code",
   "execution_count": 95,
   "metadata": {},
   "outputs": [
    {
     "data": {
      "text/plain": [
       "(3000, 23)"
      ]
     },
     "execution_count": 95,
     "metadata": {},
     "output_type": "execute_result"
    }
   ],
   "source": [
    "data_frame_test.shape"
   ]
  },
  {
   "cell_type": "code",
   "execution_count": 96,
   "metadata": {},
   "outputs": [
    {
     "data": {
      "text/plain": [
       "Employee_ID                   object\n",
       "Gender                        object\n",
       "Age                          float64\n",
       "Education_Level                int64\n",
       "Relationship_Status           object\n",
       "Hometown                      object\n",
       "Unit                          object\n",
       "Decision_skill_possess        object\n",
       "Time_of_service              float64\n",
       "Time_since_promotion           int64\n",
       "growth_rate                    int64\n",
       "Travel_Rate                    int64\n",
       "Post_Level                     int64\n",
       "Pay_Scale                    float64\n",
       "Compensation_and_Benefits     object\n",
       "Work_Life_balance            float64\n",
       "VAR1                           int64\n",
       "VAR2                         float64\n",
       "VAR3                         float64\n",
       "VAR4                         float64\n",
       "VAR5                           int64\n",
       "VAR6                           int64\n",
       "VAR7                           int64\n",
       "dtype: object"
      ]
     },
     "execution_count": 96,
     "metadata": {},
     "output_type": "execute_result"
    }
   ],
   "source": [
    "data_frame_test.dtypes"
   ]
  },
  {
   "cell_type": "code",
   "execution_count": 97,
   "metadata": {},
   "outputs": [
    {
     "data": {
      "text/plain": [
       "Employee_ID                    0\n",
       "Gender                         0\n",
       "Age                          161\n",
       "Education_Level                0\n",
       "Relationship_Status            0\n",
       "Hometown                       0\n",
       "Unit                           0\n",
       "Decision_skill_possess         0\n",
       "Time_of_service               52\n",
       "Time_since_promotion           0\n",
       "growth_rate                    0\n",
       "Travel_Rate                    0\n",
       "Post_Level                     0\n",
       "Pay_Scale                      3\n",
       "Compensation_and_Benefits      0\n",
       "Work_Life_balance              5\n",
       "VAR1                           0\n",
       "VAR2                         217\n",
       "VAR3                           0\n",
       "VAR4                         298\n",
       "VAR5                           0\n",
       "VAR6                           0\n",
       "VAR7                           0\n",
       "dtype: int64"
      ]
     },
     "execution_count": 97,
     "metadata": {},
     "output_type": "execute_result"
    }
   ],
   "source": [
    "data_frame_test.isnull().sum()"
   ]
  },
  {
   "cell_type": "code",
   "execution_count": 98,
   "metadata": {},
   "outputs": [],
   "source": [
    "data_frame_test[\"Age\"].fillna(39,inplace=True)"
   ]
  },
  {
   "cell_type": "code",
   "execution_count": 99,
   "metadata": {},
   "outputs": [
    {
     "name": "stderr",
     "output_type": "stream",
     "text": [
      "C:\\Users\\AVM\\Anaconda3\\lib\\site-packages\\ipykernel_launcher.py:6: SettingWithCopyWarning: \n",
      "A value is trying to be set on a copy of a slice from a DataFrame\n",
      "\n",
      "See the caveats in the documentation: http://pandas.pydata.org/pandas-docs/stable/indexing.html#indexing-view-versus-copy\n",
      "  \n",
      "C:\\Users\\AVM\\Anaconda3\\lib\\site-packages\\ipykernel_launcher.py:4: SettingWithCopyWarning: \n",
      "A value is trying to be set on a copy of a slice from a DataFrame\n",
      "\n",
      "See the caveats in the documentation: http://pandas.pydata.org/pandas-docs/stable/indexing.html#indexing-view-versus-copy\n",
      "  after removing the cwd from sys.path.\n",
      "C:\\Users\\AVM\\Anaconda3\\lib\\site-packages\\ipykernel_launcher.py:12: SettingWithCopyWarning: \n",
      "A value is trying to be set on a copy of a slice from a DataFrame\n",
      "\n",
      "See the caveats in the documentation: http://pandas.pydata.org/pandas-docs/stable/indexing.html#indexing-view-versus-copy\n",
      "  if sys.path[0] == '':\n",
      "C:\\Users\\AVM\\Anaconda3\\lib\\site-packages\\ipykernel_launcher.py:8: SettingWithCopyWarning: \n",
      "A value is trying to be set on a copy of a slice from a DataFrame\n",
      "\n",
      "See the caveats in the documentation: http://pandas.pydata.org/pandas-docs/stable/indexing.html#indexing-view-versus-copy\n",
      "  \n",
      "C:\\Users\\AVM\\Anaconda3\\lib\\site-packages\\ipykernel_launcher.py:10: SettingWithCopyWarning: \n",
      "A value is trying to be set on a copy of a slice from a DataFrame\n",
      "\n",
      "See the caveats in the documentation: http://pandas.pydata.org/pandas-docs/stable/indexing.html#indexing-view-versus-copy\n",
      "  # Remove the CWD from sys.path while we load stuff.\n"
     ]
    }
   ],
   "source": [
    "for i in range(0,len(data_frame_test)):\n",
    "    if pd.isnull(data_frame_test[\"Time_of_service\"][i]):\n",
    "        if data_frame_test[\"Age\"][i]<=25:\n",
    "            data_frame_test[\"Time_of_service\"][i]=3\n",
    "        elif data_frame_test[\"Age\"][i]<=35:\n",
    "            data_frame_test[\"Time_of_service\"][i]=6\n",
    "        elif data_frame_test[\"Age\"][i]<=45:\n",
    "            data_frame_test[\"Time_of_service\"][i]=10\n",
    "        elif data_frame_test[\"Age\"][i]<=55:\n",
    "            data_frame_test[\"Time_of_service\"][i]=17\n",
    "        elif data_frame_test[\"Age\"][i]>55:\n",
    "            data_frame_test[\"Time_of_service\"][i]=22"
   ]
  },
  {
   "cell_type": "code",
   "execution_count": 100,
   "metadata": {},
   "outputs": [
    {
     "data": {
      "text/plain": [
       "3.0     226\n",
       "6.0     222\n",
       "4.0     214\n",
       "5.0     197\n",
       "10.0    120\n",
       "7.0     118\n",
       "2.0     118\n",
       "8.0     109\n",
       "12.0     99\n",
       "16.0     81\n",
       "11.0     80\n",
       "13.0     80\n",
       "9.0      75\n",
       "21.0     71\n",
       "14.0     69\n",
       "20.0     67\n",
       "18.0     66\n",
       "17.0     65\n",
       "23.0     64\n",
       "15.0     64\n",
       "19.0     61\n",
       "0.0      60\n",
       "26.0     56\n",
       "22.0     55\n",
       "1.0      54\n",
       "30.0     49\n",
       "25.0     48\n",
       "27.0     45\n",
       "28.0     43\n",
       "32.0     41\n",
       "24.0     40\n",
       "29.0     40\n",
       "34.0     38\n",
       "31.0     32\n",
       "33.0     31\n",
       "36.0     28\n",
       "37.0     19\n",
       "35.0     19\n",
       "38.0     10\n",
       "40.0      8\n",
       "39.0      7\n",
       "41.0      6\n",
       "42.0      4\n",
       "43.0      1\n",
       "Name: Time_of_service, dtype: int64"
      ]
     },
     "execution_count": 100,
     "metadata": {},
     "output_type": "execute_result"
    }
   ],
   "source": [
    "data_frame_test[\"Time_of_service\"].value_counts()"
   ]
  },
  {
   "cell_type": "code",
   "execution_count": 101,
   "metadata": {},
   "outputs": [
    {
     "data": {
      "text/plain": [
       " 0.7516    1124\n",
       "-0.1048     659\n",
       "-0.9612     422\n",
       "-1.8176     357\n",
       " 1.6081     221\n",
       "Name: VAR2, dtype: int64"
      ]
     },
     "execution_count": 101,
     "metadata": {},
     "output_type": "execute_result"
    }
   ],
   "source": [
    "data_frame_test[\"VAR2\"].value_counts()"
   ]
  },
  {
   "cell_type": "code",
   "execution_count": 102,
   "metadata": {},
   "outputs": [],
   "source": [
    "data_frame_test[\"VAR2\"].fillna(data_frame_test[\"VAR2\"].mean(),inplace=True)"
   ]
  },
  {
   "cell_type": "code",
   "execution_count": 103,
   "metadata": {},
   "outputs": [
    {
     "data": {
      "text/plain": [
       "2.0    1878\n",
       "1.0     537\n",
       "3.0     287\n",
       "Name: VAR4, dtype: int64"
      ]
     },
     "execution_count": 103,
     "metadata": {},
     "output_type": "execute_result"
    }
   ],
   "source": [
    "data_frame_test[\"VAR4\"].value_counts()"
   ]
  },
  {
   "cell_type": "code",
   "execution_count": 104,
   "metadata": {},
   "outputs": [],
   "source": [
    "data_frame_test[\"VAR4\"].fillna(2.0,inplace=True)"
   ]
  },
  {
   "cell_type": "code",
   "execution_count": 105,
   "metadata": {},
   "outputs": [
    {
     "data": {
      "text/plain": [
       "F    1728\n",
       "M    1272\n",
       "Name: Gender, dtype: int64"
      ]
     },
     "execution_count": 105,
     "metadata": {},
     "output_type": "execute_result"
    }
   ],
   "source": [
    "data_frame_test[\"Gender\"].value_counts()"
   ]
  },
  {
   "cell_type": "code",
   "execution_count": 106,
   "metadata": {},
   "outputs": [],
   "source": [
    "data_frame_test[\"Gender\"]=data_frame_test[\"Gender\"].replace({'M':0,'F':1})"
   ]
  },
  {
   "cell_type": "code",
   "execution_count": 107,
   "metadata": {},
   "outputs": [
    {
     "data": {
      "text/plain": [
       "IT                           569\n",
       "Logistics                    475\n",
       "Sales                        446\n",
       "R&D                          311\n",
       "Operarions                   302\n",
       "Purchasing                   210\n",
       "Accounting and Finance       183\n",
       "Human Resource Management    169\n",
       "Marketing                    107\n",
       "Quality                       97\n",
       "Production                    81\n",
       "Security                      50\n",
       "Name: Unit, dtype: int64"
      ]
     },
     "execution_count": 107,
     "metadata": {},
     "output_type": "execute_result"
    }
   ],
   "source": [
    "data_frame_test[\"Unit\"].value_counts()"
   ]
  },
  {
   "cell_type": "code",
   "execution_count": 108,
   "metadata": {},
   "outputs": [],
   "source": [
    "data_frame_test[\"Unit\"]=data_frame_test[\"Unit\"].replace({'IT':0, 'Logistics':1, 'Sales':2, 'Operarions':3, 'R&D':4,'Purchasing':5,\n",
    " 'Accounting and Finance':6,'Human Resource Management':7,'Marketing':8,\n",
    " 'Production':9, 'Quality':10, 'Security':11}\n",
    ")"
   ]
  },
  {
   "cell_type": "code",
   "execution_count": 109,
   "metadata": {},
   "outputs": [
    {
     "data": {
      "text/plain": [
       "3    1185\n",
       "4     942\n",
       "5     298\n",
       "2     291\n",
       "1     284\n",
       "Name: Education_Level, dtype: int64"
      ]
     },
     "execution_count": 109,
     "metadata": {},
     "output_type": "execute_result"
    }
   ],
   "source": [
    "data_frame_test[\"Education_Level\"].value_counts()"
   ]
  },
  {
   "cell_type": "code",
   "execution_count": 110,
   "metadata": {},
   "outputs": [
    {
     "data": {
      "text/plain": [
       "Married    1941\n",
       "Single     1059\n",
       "Name: Relationship_Status, dtype: int64"
      ]
     },
     "execution_count": 110,
     "metadata": {},
     "output_type": "execute_result"
    }
   ],
   "source": [
    "data_frame_test[\"Relationship_Status\"].value_counts()"
   ]
  },
  {
   "cell_type": "code",
   "execution_count": 111,
   "metadata": {},
   "outputs": [],
   "source": [
    "data_frame_test[\"Relationship_Status\"]=data_frame_test[\"Relationship_Status\"].replace({'Married':0,'Single':1})"
   ]
  },
  {
   "cell_type": "code",
   "execution_count": 112,
   "metadata": {},
   "outputs": [
    {
     "data": {
      "text/plain": [
       "Lebanon        883\n",
       "Springfield    748\n",
       "Franklin       658\n",
       "Washington     464\n",
       "Clinton        247\n",
       "Name: Hometown, dtype: int64"
      ]
     },
     "execution_count": 112,
     "metadata": {},
     "output_type": "execute_result"
    }
   ],
   "source": [
    "data_frame_test[\"Hometown\"].value_counts()"
   ]
  },
  {
   "cell_type": "code",
   "execution_count": 113,
   "metadata": {},
   "outputs": [],
   "source": [
    "data_frame_test[\"Hometown\"]=data_frame_test[\"Hometown\"].replace({'Lebanon':0,'Springfield':1,'Franklin':2,'Washington':3,'Clinton':4})"
   ]
  },
  {
   "cell_type": "code",
   "execution_count": 114,
   "metadata": {},
   "outputs": [
    {
     "data": {
      "text/plain": [
       "Behavioral    799\n",
       "Analytical    746\n",
       "Directive     735\n",
       "Conceptual    720\n",
       "Name: Decision_skill_possess, dtype: int64"
      ]
     },
     "execution_count": 114,
     "metadata": {},
     "output_type": "execute_result"
    }
   ],
   "source": [
    "data_frame_test[\"Decision_skill_possess\"].value_counts()"
   ]
  },
  {
   "cell_type": "code",
   "execution_count": 115,
   "metadata": {},
   "outputs": [],
   "source": [
    "data_frame_test[\"Decision_skill_possess\"]=data_frame_test[\"Decision_skill_possess\"].replace({'Conceptual':0,'Analytical':1,'Directive':2,'Behavioral':3})"
   ]
  },
  {
   "cell_type": "code",
   "execution_count": 116,
   "metadata": {},
   "outputs": [
    {
     "data": {
      "text/plain": [
       "3.0     226\n",
       "6.0     222\n",
       "4.0     214\n",
       "5.0     197\n",
       "10.0    120\n",
       "7.0     118\n",
       "2.0     118\n",
       "8.0     109\n",
       "12.0     99\n",
       "16.0     81\n",
       "11.0     80\n",
       "13.0     80\n",
       "9.0      75\n",
       "21.0     71\n",
       "14.0     69\n",
       "20.0     67\n",
       "18.0     66\n",
       "17.0     65\n",
       "23.0     64\n",
       "15.0     64\n",
       "19.0     61\n",
       "0.0      60\n",
       "26.0     56\n",
       "22.0     55\n",
       "1.0      54\n",
       "30.0     49\n",
       "25.0     48\n",
       "27.0     45\n",
       "28.0     43\n",
       "32.0     41\n",
       "24.0     40\n",
       "29.0     40\n",
       "34.0     38\n",
       "31.0     32\n",
       "33.0     31\n",
       "36.0     28\n",
       "37.0     19\n",
       "35.0     19\n",
       "38.0     10\n",
       "40.0      8\n",
       "39.0      7\n",
       "41.0      6\n",
       "42.0      4\n",
       "43.0      1\n",
       "Name: Time_of_service, dtype: int64"
      ]
     },
     "execution_count": 116,
     "metadata": {},
     "output_type": "execute_result"
    }
   ],
   "source": [
    "data_frame_test[\"Time_of_service\"].value_counts()"
   ]
  },
  {
   "cell_type": "code",
   "execution_count": 117,
   "metadata": {},
   "outputs": [
    {
     "data": {
      "text/plain": [
       "Employee_ID                   object\n",
       "Gender                         int64\n",
       "Age                          float64\n",
       "Education_Level                int64\n",
       "Relationship_Status            int64\n",
       "Hometown                       int64\n",
       "Unit                           int64\n",
       "Decision_skill_possess         int64\n",
       "Time_of_service              float64\n",
       "Time_since_promotion           int64\n",
       "growth_rate                    int64\n",
       "Travel_Rate                    int64\n",
       "Post_Level                     int64\n",
       "Pay_Scale                    float64\n",
       "Compensation_and_Benefits     object\n",
       "Work_Life_balance            float64\n",
       "VAR1                           int64\n",
       "VAR2                         float64\n",
       "VAR3                         float64\n",
       "VAR4                         float64\n",
       "VAR5                           int64\n",
       "VAR6                           int64\n",
       "VAR7                           int64\n",
       "dtype: object"
      ]
     },
     "execution_count": 117,
     "metadata": {},
     "output_type": "execute_result"
    }
   ],
   "source": [
    "data_frame_test.dtypes"
   ]
  },
  {
   "cell_type": "code",
   "execution_count": 118,
   "metadata": {},
   "outputs": [
    {
     "data": {
      "text/plain": [
       "2    770\n",
       "1    755\n",
       "3    731\n",
       "4    682\n",
       "0     62\n",
       "Name: Time_since_promotion, dtype: int64"
      ]
     },
     "execution_count": 118,
     "metadata": {},
     "output_type": "execute_result"
    }
   ],
   "source": [
    "data_frame_test[\"Time_since_promotion\"].value_counts()"
   ]
  },
  {
   "cell_type": "code",
   "execution_count": 119,
   "metadata": {},
   "outputs": [
    {
     "data": {
      "text/plain": [
       "1    1672\n",
       "0     923\n",
       "2     405\n",
       "Name: Travel_Rate, dtype: int64"
      ]
     },
     "execution_count": 119,
     "metadata": {},
     "output_type": "execute_result"
    }
   ],
   "source": [
    "data_frame_test[\"Travel_Rate\"].value_counts()"
   ]
  },
  {
   "cell_type": "code",
   "execution_count": 120,
   "metadata": {},
   "outputs": [
    {
     "name": "stderr",
     "output_type": "stream",
     "text": [
      "C:\\Users\\AVM\\Anaconda3\\lib\\site-packages\\ipykernel_launcher.py:4: SettingWithCopyWarning: \n",
      "A value is trying to be set on a copy of a slice from a DataFrame\n",
      "\n",
      "See the caveats in the documentation: http://pandas.pydata.org/pandas-docs/stable/indexing.html#indexing-view-versus-copy\n",
      "  after removing the cwd from sys.path.\n",
      "C:\\Users\\AVM\\Anaconda3\\lib\\site-packages\\ipykernel_launcher.py:8: SettingWithCopyWarning: \n",
      "A value is trying to be set on a copy of a slice from a DataFrame\n",
      "\n",
      "See the caveats in the documentation: http://pandas.pydata.org/pandas-docs/stable/indexing.html#indexing-view-versus-copy\n",
      "  \n"
     ]
    }
   ],
   "source": [
    "for i in range(0,len(data_frame_test)):\n",
    "    if pd.isnull(data_frame_test[\"Pay_Scale\"][i]):\n",
    "        if data_frame_test[\"Decision_skill_possess\"][i]==0:\n",
    "            data_frame_test[\"Pay_Scale\"][i]=1\n",
    "        elif data_frame_test[\"Decision_skill_possess\"][i]==1:\n",
    "            data_frame_test[\"Pay_Scale\"][i]=3\n",
    "        elif data_frame_test[\"Decision_skill_possess\"][i]==2:\n",
    "            data_frame_test[\"Pay_Scale\"][i]=8\n",
    "        elif data_frame_test[\"Decision_skill_possess\"][i]==3:\n",
    "            data_frame_test[\"Pay_Scale\"][i]=9\n"
   ]
  },
  {
   "cell_type": "code",
   "execution_count": 121,
   "metadata": {},
   "outputs": [
    {
     "name": "stderr",
     "output_type": "stream",
     "text": [
      "C:\\Users\\AVM\\Anaconda3\\lib\\site-packages\\ipykernel_launcher.py:6: SettingWithCopyWarning: \n",
      "A value is trying to be set on a copy of a slice from a DataFrame\n",
      "\n",
      "See the caveats in the documentation: http://pandas.pydata.org/pandas-docs/stable/indexing.html#indexing-view-versus-copy\n",
      "  \n",
      "C:\\Users\\AVM\\Anaconda3\\lib\\site-packages\\ipykernel_launcher.py:4: SettingWithCopyWarning: \n",
      "A value is trying to be set on a copy of a slice from a DataFrame\n",
      "\n",
      "See the caveats in the documentation: http://pandas.pydata.org/pandas-docs/stable/indexing.html#indexing-view-versus-copy\n",
      "  after removing the cwd from sys.path.\n",
      "C:\\Users\\AVM\\Anaconda3\\lib\\site-packages\\ipykernel_launcher.py:10: SettingWithCopyWarning: \n",
      "A value is trying to be set on a copy of a slice from a DataFrame\n",
      "\n",
      "See the caveats in the documentation: http://pandas.pydata.org/pandas-docs/stable/indexing.html#indexing-view-versus-copy\n",
      "  # Remove the CWD from sys.path while we load stuff.\n"
     ]
    }
   ],
   "source": [
    "for i in range(0,len(data_frame_test)):\n",
    "    if pd.isnull(data_frame_test[\"Work_Life_balance\"][i]):\n",
    "        if data_frame_test[\"Decision_skill_possess\"][i]<=1 and data_frame_test[\"Age\"][i]<=37:\n",
    "            data_frame_test[\"Work_Life_balance\"][i]=1.0\n",
    "        elif data_frame_test[\"Decision_skill_possess\"][i]<=1 and data_frame_test[\"Age\"][i]>37:\n",
    "            data_frame_test[\"Work_Life_balance\"][i]=2.0\n",
    "        elif data_frame_test[\"Decision_skill_possess\"][i]>1 and data_frame_test[\"Age\"][i]<37:\n",
    "            data_frame_test[\"Work_Life_balance\"][i]=3.0\n",
    "        elif data_frame_test[\"Decision_skill_possess\"][i]>1 and data_frame_test[\"Age\"][i]>37:\n",
    "            data_frame_test[\"Work_Life_balance\"][i]=5.0"
   ]
  },
  {
   "cell_type": "code",
   "execution_count": 122,
   "metadata": {},
   "outputs": [
    {
     "data": {
      "text/plain": [
       "3    1034\n",
       "2     728\n",
       "1     481\n",
       "4     440\n",
       "5     317\n",
       "Name: Post_Level, dtype: int64"
      ]
     },
     "execution_count": 122,
     "metadata": {},
     "output_type": "execute_result"
    }
   ],
   "source": [
    "data_frame_test[\"Post_Level\"].value_counts()"
   ]
  },
  {
   "cell_type": "code",
   "execution_count": 123,
   "metadata": {},
   "outputs": [
    {
     "data": {
      "text/plain": [
       "8.0     574\n",
       "6.0     536\n",
       "5.0     480\n",
       "4.0     422\n",
       "7.0     352\n",
       "9.0     239\n",
       "3.0     111\n",
       "2.0     106\n",
       "10.0    105\n",
       "1.0      75\n",
       "Name: Pay_Scale, dtype: int64"
      ]
     },
     "execution_count": 123,
     "metadata": {},
     "output_type": "execute_result"
    }
   ],
   "source": [
    "data_frame_test[\"Pay_Scale\"].value_counts()"
   ]
  },
  {
   "cell_type": "code",
   "execution_count": 124,
   "metadata": {},
   "outputs": [
    {
     "data": {
      "text/plain": [
       "type2    1741\n",
       "type3     964\n",
       "type4     137\n",
       "type0      93\n",
       "type1      65\n",
       "Name: Compensation_and_Benefits, dtype: int64"
      ]
     },
     "execution_count": 124,
     "metadata": {},
     "output_type": "execute_result"
    }
   ],
   "source": [
    "data_frame_test[\"Compensation_and_Benefits\"].value_counts()"
   ]
  },
  {
   "cell_type": "code",
   "execution_count": 125,
   "metadata": {},
   "outputs": [],
   "source": [
    "data_frame_test[\"Compensation_and_Benefits\"]=data_frame_test[\"Compensation_and_Benefits\"].replace({'type0':0,'type1':1,'type2':2,'type3':3,'type4':4})"
   ]
  },
  {
   "cell_type": "code",
   "execution_count": 126,
   "metadata": {},
   "outputs": [
    {
     "data": {
      "text/plain": [
       "1.0    911\n",
       "3.0    835\n",
       "2.0    674\n",
       "4.0    522\n",
       "5.0     58\n",
       "Name: Work_Life_balance, dtype: int64"
      ]
     },
     "execution_count": 126,
     "metadata": {},
     "output_type": "execute_result"
    }
   ],
   "source": [
    "data_frame_test[\"Work_Life_balance\"].value_counts()"
   ]
  },
  {
   "cell_type": "code",
   "execution_count": 127,
   "metadata": {},
   "outputs": [
    {
     "data": {
      "text/plain": [
       "Employee_ID                   object\n",
       "Gender                         int64\n",
       "Age                          float64\n",
       "Education_Level                int64\n",
       "Relationship_Status            int64\n",
       "Hometown                       int64\n",
       "Unit                           int64\n",
       "Decision_skill_possess         int64\n",
       "Time_of_service              float64\n",
       "Time_since_promotion           int64\n",
       "growth_rate                    int64\n",
       "Travel_Rate                    int64\n",
       "Post_Level                     int64\n",
       "Pay_Scale                    float64\n",
       "Compensation_and_Benefits      int64\n",
       "Work_Life_balance            float64\n",
       "VAR1                           int64\n",
       "VAR2                         float64\n",
       "VAR3                         float64\n",
       "VAR4                         float64\n",
       "VAR5                           int64\n",
       "VAR6                           int64\n",
       "VAR7                           int64\n",
       "dtype: object"
      ]
     },
     "execution_count": 127,
     "metadata": {},
     "output_type": "execute_result"
    }
   ],
   "source": [
    "data_frame_test.dtypes"
   ]
  },
  {
   "cell_type": "code",
   "execution_count": 128,
   "metadata": {},
   "outputs": [],
   "source": [
    "data_frame_test=data_frame_test.astype({'Gender':'object','Education_Level':'object','Relationship_Status':'object'})"
   ]
  },
  {
   "cell_type": "code",
   "execution_count": 129,
   "metadata": {},
   "outputs": [],
   "source": [
    "data_frame_test=data_frame_test.astype({'Hometown':'object','Unit':'object','Decision_skill_possess':'object'})"
   ]
  },
  {
   "cell_type": "code",
   "execution_count": 130,
   "metadata": {},
   "outputs": [],
   "source": [
    "data_frame_test=data_frame_test.astype({'Time_since_promotion':'object','Travel_Rate':'object','Post_Level':'object'})"
   ]
  },
  {
   "cell_type": "code",
   "execution_count": 131,
   "metadata": {},
   "outputs": [],
   "source": [
    "data_frame_test=data_frame_test.astype({'Pay_Scale':'object','Compensation_and_Benefits':'object','Work_Life_balance':'object'})"
   ]
  },
  {
   "cell_type": "code",
   "execution_count": 132,
   "metadata": {},
   "outputs": [
    {
     "data": {
      "text/html": [
       "<div>\n",
       "<style scoped>\n",
       "    .dataframe tbody tr th:only-of-type {\n",
       "        vertical-align: middle;\n",
       "    }\n",
       "\n",
       "    .dataframe tbody tr th {\n",
       "        vertical-align: top;\n",
       "    }\n",
       "\n",
       "    .dataframe thead th {\n",
       "        text-align: right;\n",
       "    }\n",
       "</style>\n",
       "<table border=\"1\" class=\"dataframe\">\n",
       "  <thead>\n",
       "    <tr style=\"text-align: right;\">\n",
       "      <th></th>\n",
       "      <th>Employee_ID</th>\n",
       "      <th>Gender</th>\n",
       "      <th>Age</th>\n",
       "      <th>Education_Level</th>\n",
       "      <th>Relationship_Status</th>\n",
       "      <th>Hometown</th>\n",
       "      <th>Unit</th>\n",
       "      <th>Decision_skill_possess</th>\n",
       "      <th>Time_of_service</th>\n",
       "      <th>Time_since_promotion</th>\n",
       "      <th>...</th>\n",
       "      <th>Pay_Scale</th>\n",
       "      <th>Compensation_and_Benefits</th>\n",
       "      <th>Work_Life_balance</th>\n",
       "      <th>VAR1</th>\n",
       "      <th>VAR2</th>\n",
       "      <th>VAR3</th>\n",
       "      <th>VAR4</th>\n",
       "      <th>VAR5</th>\n",
       "      <th>VAR6</th>\n",
       "      <th>VAR7</th>\n",
       "    </tr>\n",
       "  </thead>\n",
       "  <tbody>\n",
       "    <tr>\n",
       "      <th>0</th>\n",
       "      <td>EID_22713</td>\n",
       "      <td>1</td>\n",
       "      <td>32.0</td>\n",
       "      <td>5</td>\n",
       "      <td>1</td>\n",
       "      <td>1</td>\n",
       "      <td>4</td>\n",
       "      <td>0</td>\n",
       "      <td>7.0</td>\n",
       "      <td>4</td>\n",
       "      <td>...</td>\n",
       "      <td>4</td>\n",
       "      <td>2</td>\n",
       "      <td>1</td>\n",
       "      <td>3</td>\n",
       "      <td>-0.9612</td>\n",
       "      <td>-0.4537</td>\n",
       "      <td>2.0</td>\n",
       "      <td>1</td>\n",
       "      <td>8</td>\n",
       "      <td>4</td>\n",
       "    </tr>\n",
       "    <tr>\n",
       "      <th>1</th>\n",
       "      <td>EID_9658</td>\n",
       "      <td>0</td>\n",
       "      <td>65.0</td>\n",
       "      <td>2</td>\n",
       "      <td>1</td>\n",
       "      <td>0</td>\n",
       "      <td>0</td>\n",
       "      <td>2</td>\n",
       "      <td>41.0</td>\n",
       "      <td>2</td>\n",
       "      <td>...</td>\n",
       "      <td>1</td>\n",
       "      <td>2</td>\n",
       "      <td>1</td>\n",
       "      <td>4</td>\n",
       "      <td>-0.9612</td>\n",
       "      <td>0.7075</td>\n",
       "      <td>1.0</td>\n",
       "      <td>2</td>\n",
       "      <td>8</td>\n",
       "      <td>2</td>\n",
       "    </tr>\n",
       "    <tr>\n",
       "      <th>2</th>\n",
       "      <td>EID_22203</td>\n",
       "      <td>0</td>\n",
       "      <td>52.0</td>\n",
       "      <td>3</td>\n",
       "      <td>0</td>\n",
       "      <td>1</td>\n",
       "      <td>2</td>\n",
       "      <td>2</td>\n",
       "      <td>21.0</td>\n",
       "      <td>3</td>\n",
       "      <td>...</td>\n",
       "      <td>8</td>\n",
       "      <td>3</td>\n",
       "      <td>1</td>\n",
       "      <td>4</td>\n",
       "      <td>-0.1048</td>\n",
       "      <td>0.7075</td>\n",
       "      <td>2.0</td>\n",
       "      <td>1</td>\n",
       "      <td>9</td>\n",
       "      <td>3</td>\n",
       "    </tr>\n",
       "    <tr>\n",
       "      <th>3</th>\n",
       "      <td>EID_7652</td>\n",
       "      <td>0</td>\n",
       "      <td>50.0</td>\n",
       "      <td>5</td>\n",
       "      <td>1</td>\n",
       "      <td>3</td>\n",
       "      <td>8</td>\n",
       "      <td>1</td>\n",
       "      <td>11.0</td>\n",
       "      <td>4</td>\n",
       "      <td>...</td>\n",
       "      <td>2</td>\n",
       "      <td>0</td>\n",
       "      <td>4</td>\n",
       "      <td>3</td>\n",
       "      <td>-0.1048</td>\n",
       "      <td>0.7075</td>\n",
       "      <td>2.0</td>\n",
       "      <td>2</td>\n",
       "      <td>8</td>\n",
       "      <td>3</td>\n",
       "    </tr>\n",
       "    <tr>\n",
       "      <th>4</th>\n",
       "      <td>EID_6516</td>\n",
       "      <td>1</td>\n",
       "      <td>44.0</td>\n",
       "      <td>3</td>\n",
       "      <td>0</td>\n",
       "      <td>2</td>\n",
       "      <td>4</td>\n",
       "      <td>0</td>\n",
       "      <td>12.0</td>\n",
       "      <td>4</td>\n",
       "      <td>...</td>\n",
       "      <td>2</td>\n",
       "      <td>2</td>\n",
       "      <td>4</td>\n",
       "      <td>4</td>\n",
       "      <td>1.6081</td>\n",
       "      <td>0.7075</td>\n",
       "      <td>2.0</td>\n",
       "      <td>2</td>\n",
       "      <td>7</td>\n",
       "      <td>4</td>\n",
       "    </tr>\n",
       "  </tbody>\n",
       "</table>\n",
       "<p>5 rows × 23 columns</p>\n",
       "</div>"
      ],
      "text/plain": [
       "  Employee_ID Gender   Age Education_Level Relationship_Status Hometown Unit  \\\n",
       "0   EID_22713      1  32.0               5                   1        1    4   \n",
       "1    EID_9658      0  65.0               2                   1        0    0   \n",
       "2   EID_22203      0  52.0               3                   0        1    2   \n",
       "3    EID_7652      0  50.0               5                   1        3    8   \n",
       "4    EID_6516      1  44.0               3                   0        2    4   \n",
       "\n",
       "  Decision_skill_possess  Time_of_service Time_since_promotion  ...  \\\n",
       "0                      0              7.0                    4  ...   \n",
       "1                      2             41.0                    2  ...   \n",
       "2                      2             21.0                    3  ...   \n",
       "3                      1             11.0                    4  ...   \n",
       "4                      0             12.0                    4  ...   \n",
       "\n",
       "   Pay_Scale Compensation_and_Benefits Work_Life_balance VAR1    VAR2    VAR3  \\\n",
       "0          4                         2                 1    3 -0.9612 -0.4537   \n",
       "1          1                         2                 1    4 -0.9612  0.7075   \n",
       "2          8                         3                 1    4 -0.1048  0.7075   \n",
       "3          2                         0                 4    3 -0.1048  0.7075   \n",
       "4          2                         2                 4    4  1.6081  0.7075   \n",
       "\n",
       "   VAR4  VAR5  VAR6  VAR7  \n",
       "0   2.0     1     8     4  \n",
       "1   1.0     2     8     2  \n",
       "2   2.0     1     9     3  \n",
       "3   2.0     2     8     3  \n",
       "4   2.0     2     7     4  \n",
       "\n",
       "[5 rows x 23 columns]"
      ]
     },
     "execution_count": 132,
     "metadata": {},
     "output_type": "execute_result"
    }
   ],
   "source": [
    "data_frame_test.head()"
   ]
  },
  {
   "cell_type": "code",
   "execution_count": 133,
   "metadata": {},
   "outputs": [],
   "source": [
    "a=data_frame_test.drop([\"Employee_ID\"],axis=1)"
   ]
  },
  {
   "cell_type": "code",
   "execution_count": 134,
   "metadata": {},
   "outputs": [
    {
     "name": "stderr",
     "output_type": "stream",
     "text": [
      "C:\\Users\\AVM\\Anaconda3\\lib\\site-packages\\sklearn\\preprocessing\\data.py:334: DataConversionWarning: Data with input dtype int64, float64, object were all converted to float64 by MinMaxScaler.\n",
      "  return self.partial_fit(X, y)\n"
     ]
    }
   ],
   "source": [
    "scaler=MinMaxScaler()\n",
    "y=scaler.fit_transform(a)\n",
    "a=pd.DataFrame(y,columns=a.columns)"
   ]
  },
  {
   "cell_type": "code",
   "execution_count": 135,
   "metadata": {},
   "outputs": [
    {
     "data": {
      "text/html": [
       "<div>\n",
       "<style scoped>\n",
       "    .dataframe tbody tr th:only-of-type {\n",
       "        vertical-align: middle;\n",
       "    }\n",
       "\n",
       "    .dataframe tbody tr th {\n",
       "        vertical-align: top;\n",
       "    }\n",
       "\n",
       "    .dataframe thead th {\n",
       "        text-align: right;\n",
       "    }\n",
       "</style>\n",
       "<table border=\"1\" class=\"dataframe\">\n",
       "  <thead>\n",
       "    <tr style=\"text-align: right;\">\n",
       "      <th></th>\n",
       "      <th>Gender</th>\n",
       "      <th>Age</th>\n",
       "      <th>Education_Level</th>\n",
       "      <th>Relationship_Status</th>\n",
       "      <th>Hometown</th>\n",
       "      <th>Unit</th>\n",
       "      <th>Decision_skill_possess</th>\n",
       "      <th>Time_of_service</th>\n",
       "      <th>Time_since_promotion</th>\n",
       "      <th>growth_rate</th>\n",
       "      <th>...</th>\n",
       "      <th>Pay_Scale</th>\n",
       "      <th>Compensation_and_Benefits</th>\n",
       "      <th>Work_Life_balance</th>\n",
       "      <th>VAR1</th>\n",
       "      <th>VAR2</th>\n",
       "      <th>VAR3</th>\n",
       "      <th>VAR4</th>\n",
       "      <th>VAR5</th>\n",
       "      <th>VAR6</th>\n",
       "      <th>VAR7</th>\n",
       "    </tr>\n",
       "  </thead>\n",
       "  <tbody>\n",
       "    <tr>\n",
       "      <th>0</th>\n",
       "      <td>1.0</td>\n",
       "      <td>0.282609</td>\n",
       "      <td>1.00</td>\n",
       "      <td>1.0</td>\n",
       "      <td>0.25</td>\n",
       "      <td>0.363636</td>\n",
       "      <td>0.000000</td>\n",
       "      <td>0.162791</td>\n",
       "      <td>1.00</td>\n",
       "      <td>0.185185</td>\n",
       "      <td>...</td>\n",
       "      <td>0.333333</td>\n",
       "      <td>0.50</td>\n",
       "      <td>0.00</td>\n",
       "      <td>0.50</td>\n",
       "      <td>0.249993</td>\n",
       "      <td>0.500000</td>\n",
       "      <td>0.5</td>\n",
       "      <td>0.00</td>\n",
       "      <td>0.75</td>\n",
       "      <td>0.75</td>\n",
       "    </tr>\n",
       "    <tr>\n",
       "      <th>1</th>\n",
       "      <td>0.0</td>\n",
       "      <td>1.000000</td>\n",
       "      <td>0.25</td>\n",
       "      <td>1.0</td>\n",
       "      <td>0.00</td>\n",
       "      <td>0.000000</td>\n",
       "      <td>0.666667</td>\n",
       "      <td>0.953488</td>\n",
       "      <td>0.50</td>\n",
       "      <td>0.962963</td>\n",
       "      <td>...</td>\n",
       "      <td>0.000000</td>\n",
       "      <td>0.50</td>\n",
       "      <td>0.00</td>\n",
       "      <td>0.75</td>\n",
       "      <td>0.249993</td>\n",
       "      <td>0.749989</td>\n",
       "      <td>0.0</td>\n",
       "      <td>0.25</td>\n",
       "      <td>0.75</td>\n",
       "      <td>0.25</td>\n",
       "    </tr>\n",
       "    <tr>\n",
       "      <th>2</th>\n",
       "      <td>0.0</td>\n",
       "      <td>0.717391</td>\n",
       "      <td>0.50</td>\n",
       "      <td>0.0</td>\n",
       "      <td>0.25</td>\n",
       "      <td>0.181818</td>\n",
       "      <td>0.666667</td>\n",
       "      <td>0.488372</td>\n",
       "      <td>0.75</td>\n",
       "      <td>0.092593</td>\n",
       "      <td>...</td>\n",
       "      <td>0.777778</td>\n",
       "      <td>0.75</td>\n",
       "      <td>0.00</td>\n",
       "      <td>0.75</td>\n",
       "      <td>0.499985</td>\n",
       "      <td>0.749989</td>\n",
       "      <td>0.5</td>\n",
       "      <td>0.00</td>\n",
       "      <td>1.00</td>\n",
       "      <td>0.50</td>\n",
       "    </tr>\n",
       "    <tr>\n",
       "      <th>3</th>\n",
       "      <td>0.0</td>\n",
       "      <td>0.673913</td>\n",
       "      <td>1.00</td>\n",
       "      <td>1.0</td>\n",
       "      <td>0.75</td>\n",
       "      <td>0.727273</td>\n",
       "      <td>0.333333</td>\n",
       "      <td>0.255814</td>\n",
       "      <td>1.00</td>\n",
       "      <td>0.148148</td>\n",
       "      <td>...</td>\n",
       "      <td>0.111111</td>\n",
       "      <td>0.00</td>\n",
       "      <td>0.75</td>\n",
       "      <td>0.50</td>\n",
       "      <td>0.499985</td>\n",
       "      <td>0.749989</td>\n",
       "      <td>0.5</td>\n",
       "      <td>0.25</td>\n",
       "      <td>0.75</td>\n",
       "      <td>0.50</td>\n",
       "    </tr>\n",
       "    <tr>\n",
       "      <th>4</th>\n",
       "      <td>1.0</td>\n",
       "      <td>0.543478</td>\n",
       "      <td>0.50</td>\n",
       "      <td>0.0</td>\n",
       "      <td>0.50</td>\n",
       "      <td>0.363636</td>\n",
       "      <td>0.000000</td>\n",
       "      <td>0.279070</td>\n",
       "      <td>1.00</td>\n",
       "      <td>0.500000</td>\n",
       "      <td>...</td>\n",
       "      <td>0.111111</td>\n",
       "      <td>0.50</td>\n",
       "      <td>0.75</td>\n",
       "      <td>0.75</td>\n",
       "      <td>1.000000</td>\n",
       "      <td>0.749989</td>\n",
       "      <td>0.5</td>\n",
       "      <td>0.25</td>\n",
       "      <td>0.50</td>\n",
       "      <td>0.75</td>\n",
       "    </tr>\n",
       "  </tbody>\n",
       "</table>\n",
       "<p>5 rows × 22 columns</p>\n",
       "</div>"
      ],
      "text/plain": [
       "   Gender       Age  Education_Level  Relationship_Status  Hometown      Unit  \\\n",
       "0     1.0  0.282609             1.00                  1.0      0.25  0.363636   \n",
       "1     0.0  1.000000             0.25                  1.0      0.00  0.000000   \n",
       "2     0.0  0.717391             0.50                  0.0      0.25  0.181818   \n",
       "3     0.0  0.673913             1.00                  1.0      0.75  0.727273   \n",
       "4     1.0  0.543478             0.50                  0.0      0.50  0.363636   \n",
       "\n",
       "   Decision_skill_possess  Time_of_service  Time_since_promotion  growth_rate  \\\n",
       "0                0.000000         0.162791                  1.00     0.185185   \n",
       "1                0.666667         0.953488                  0.50     0.962963   \n",
       "2                0.666667         0.488372                  0.75     0.092593   \n",
       "3                0.333333         0.255814                  1.00     0.148148   \n",
       "4                0.000000         0.279070                  1.00     0.500000   \n",
       "\n",
       "   ...  Pay_Scale  Compensation_and_Benefits  Work_Life_balance  VAR1  \\\n",
       "0  ...   0.333333                       0.50               0.00  0.50   \n",
       "1  ...   0.000000                       0.50               0.00  0.75   \n",
       "2  ...   0.777778                       0.75               0.00  0.75   \n",
       "3  ...   0.111111                       0.00               0.75  0.50   \n",
       "4  ...   0.111111                       0.50               0.75  0.75   \n",
       "\n",
       "       VAR2      VAR3  VAR4  VAR5  VAR6  VAR7  \n",
       "0  0.249993  0.500000   0.5  0.00  0.75  0.75  \n",
       "1  0.249993  0.749989   0.0  0.25  0.75  0.25  \n",
       "2  0.499985  0.749989   0.5  0.00  1.00  0.50  \n",
       "3  0.499985  0.749989   0.5  0.25  0.75  0.50  \n",
       "4  1.000000  0.749989   0.5  0.25  0.50  0.75  \n",
       "\n",
       "[5 rows x 22 columns]"
      ]
     },
     "execution_count": 135,
     "metadata": {},
     "output_type": "execute_result"
    }
   ],
   "source": [
    "a.head()"
   ]
  },
  {
   "cell_type": "code",
   "execution_count": 136,
   "metadata": {},
   "outputs": [
    {
     "data": {
      "text/html": [
       "<div>\n",
       "<style scoped>\n",
       "    .dataframe tbody tr th:only-of-type {\n",
       "        vertical-align: middle;\n",
       "    }\n",
       "\n",
       "    .dataframe tbody tr th {\n",
       "        vertical-align: top;\n",
       "    }\n",
       "\n",
       "    .dataframe thead th {\n",
       "        text-align: right;\n",
       "    }\n",
       "</style>\n",
       "<table border=\"1\" class=\"dataframe\">\n",
       "  <thead>\n",
       "    <tr style=\"text-align: right;\">\n",
       "      <th></th>\n",
       "      <th>Gender</th>\n",
       "      <th>Age</th>\n",
       "      <th>Education_Level</th>\n",
       "      <th>Relationship_Status</th>\n",
       "      <th>Hometown</th>\n",
       "      <th>Unit</th>\n",
       "      <th>Decision_skill_possess</th>\n",
       "      <th>Time_of_service</th>\n",
       "      <th>Time_since_promotion</th>\n",
       "      <th>growth_rate</th>\n",
       "      <th>...</th>\n",
       "      <th>Pay_Scale</th>\n",
       "      <th>Compensation_and_Benefits</th>\n",
       "      <th>Work_Life_balance</th>\n",
       "      <th>VAR1</th>\n",
       "      <th>VAR2</th>\n",
       "      <th>VAR3</th>\n",
       "      <th>VAR4</th>\n",
       "      <th>VAR5</th>\n",
       "      <th>VAR6</th>\n",
       "      <th>VAR7</th>\n",
       "    </tr>\n",
       "  </thead>\n",
       "  <tbody>\n",
       "    <tr>\n",
       "      <th>6500</th>\n",
       "      <td>0.0</td>\n",
       "      <td>0.347826</td>\n",
       "      <td>0.00</td>\n",
       "      <td>0.0</td>\n",
       "      <td>0.00</td>\n",
       "      <td>1.000000</td>\n",
       "      <td>0.000000</td>\n",
       "      <td>0.279070</td>\n",
       "      <td>1.00</td>\n",
       "      <td>0.648148</td>\n",
       "      <td>...</td>\n",
       "      <td>0.333333</td>\n",
       "      <td>0.5</td>\n",
       "      <td>0.75</td>\n",
       "      <td>0.50</td>\n",
       "      <td>0.000000</td>\n",
       "      <td>1.000000</td>\n",
       "      <td>0.5</td>\n",
       "      <td>0.75</td>\n",
       "      <td>0.75</td>\n",
       "      <td>0.25</td>\n",
       "    </tr>\n",
       "    <tr>\n",
       "      <th>2944</th>\n",
       "      <td>1.0</td>\n",
       "      <td>0.543478</td>\n",
       "      <td>0.75</td>\n",
       "      <td>0.0</td>\n",
       "      <td>0.50</td>\n",
       "      <td>0.181818</td>\n",
       "      <td>1.000000</td>\n",
       "      <td>0.488372</td>\n",
       "      <td>1.00</td>\n",
       "      <td>0.500000</td>\n",
       "      <td>...</td>\n",
       "      <td>0.666667</td>\n",
       "      <td>0.5</td>\n",
       "      <td>0.50</td>\n",
       "      <td>0.50</td>\n",
       "      <td>0.000000</td>\n",
       "      <td>0.749989</td>\n",
       "      <td>0.5</td>\n",
       "      <td>0.50</td>\n",
       "      <td>0.25</td>\n",
       "      <td>0.75</td>\n",
       "    </tr>\n",
       "    <tr>\n",
       "      <th>2024</th>\n",
       "      <td>1.0</td>\n",
       "      <td>0.347826</td>\n",
       "      <td>0.75</td>\n",
       "      <td>0.0</td>\n",
       "      <td>0.50</td>\n",
       "      <td>0.272727</td>\n",
       "      <td>0.666667</td>\n",
       "      <td>0.302326</td>\n",
       "      <td>0.25</td>\n",
       "      <td>0.685185</td>\n",
       "      <td>...</td>\n",
       "      <td>0.555556</td>\n",
       "      <td>0.5</td>\n",
       "      <td>0.50</td>\n",
       "      <td>0.75</td>\n",
       "      <td>0.528206</td>\n",
       "      <td>0.500000</td>\n",
       "      <td>0.5</td>\n",
       "      <td>0.50</td>\n",
       "      <td>0.00</td>\n",
       "      <td>0.50</td>\n",
       "    </tr>\n",
       "    <tr>\n",
       "      <th>263</th>\n",
       "      <td>1.0</td>\n",
       "      <td>0.195652</td>\n",
       "      <td>0.75</td>\n",
       "      <td>0.0</td>\n",
       "      <td>0.25</td>\n",
       "      <td>0.181818</td>\n",
       "      <td>0.000000</td>\n",
       "      <td>0.116279</td>\n",
       "      <td>0.25</td>\n",
       "      <td>0.574074</td>\n",
       "      <td>...</td>\n",
       "      <td>0.777778</td>\n",
       "      <td>0.5</td>\n",
       "      <td>0.00</td>\n",
       "      <td>0.25</td>\n",
       "      <td>0.499985</td>\n",
       "      <td>0.500000</td>\n",
       "      <td>0.5</td>\n",
       "      <td>0.25</td>\n",
       "      <td>0.50</td>\n",
       "      <td>0.25</td>\n",
       "    </tr>\n",
       "    <tr>\n",
       "      <th>4350</th>\n",
       "      <td>1.0</td>\n",
       "      <td>0.086957</td>\n",
       "      <td>0.75</td>\n",
       "      <td>0.0</td>\n",
       "      <td>0.50</td>\n",
       "      <td>0.090909</td>\n",
       "      <td>1.000000</td>\n",
       "      <td>0.093023</td>\n",
       "      <td>0.50</td>\n",
       "      <td>0.944444</td>\n",
       "      <td>...</td>\n",
       "      <td>0.555556</td>\n",
       "      <td>0.5</td>\n",
       "      <td>0.50</td>\n",
       "      <td>0.50</td>\n",
       "      <td>0.749978</td>\n",
       "      <td>0.749989</td>\n",
       "      <td>0.5</td>\n",
       "      <td>1.00</td>\n",
       "      <td>0.50</td>\n",
       "      <td>0.50</td>\n",
       "    </tr>\n",
       "  </tbody>\n",
       "</table>\n",
       "<p>5 rows × 22 columns</p>\n",
       "</div>"
      ],
      "text/plain": [
       "      Gender       Age  Education_Level  Relationship_Status  Hometown  \\\n",
       "6500     0.0  0.347826             0.00                  0.0      0.00   \n",
       "2944     1.0  0.543478             0.75                  0.0      0.50   \n",
       "2024     1.0  0.347826             0.75                  0.0      0.50   \n",
       "263      1.0  0.195652             0.75                  0.0      0.25   \n",
       "4350     1.0  0.086957             0.75                  0.0      0.50   \n",
       "\n",
       "          Unit  Decision_skill_possess  Time_of_service  Time_since_promotion  \\\n",
       "6500  1.000000                0.000000         0.279070                  1.00   \n",
       "2944  0.181818                1.000000         0.488372                  1.00   \n",
       "2024  0.272727                0.666667         0.302326                  0.25   \n",
       "263   0.181818                0.000000         0.116279                  0.25   \n",
       "4350  0.090909                1.000000         0.093023                  0.50   \n",
       "\n",
       "      growth_rate  ...  Pay_Scale  Compensation_and_Benefits  \\\n",
       "6500     0.648148  ...   0.333333                        0.5   \n",
       "2944     0.500000  ...   0.666667                        0.5   \n",
       "2024     0.685185  ...   0.555556                        0.5   \n",
       "263      0.574074  ...   0.777778                        0.5   \n",
       "4350     0.944444  ...   0.555556                        0.5   \n",
       "\n",
       "      Work_Life_balance  VAR1      VAR2      VAR3  VAR4  VAR5  VAR6  VAR7  \n",
       "6500               0.75  0.50  0.000000  1.000000   0.5  0.75  0.75  0.25  \n",
       "2944               0.50  0.50  0.000000  0.749989   0.5  0.50  0.25  0.75  \n",
       "2024               0.50  0.75  0.528206  0.500000   0.5  0.50  0.00  0.50  \n",
       "263                0.00  0.25  0.499985  0.500000   0.5  0.25  0.50  0.25  \n",
       "4350               0.50  0.50  0.749978  0.749989   0.5  1.00  0.50  0.50  \n",
       "\n",
       "[5 rows x 22 columns]"
      ]
     },
     "execution_count": 136,
     "metadata": {},
     "output_type": "execute_result"
    }
   ],
   "source": [
    "test_x.head()"
   ]
  },
  {
   "cell_type": "code",
   "execution_count": 137,
   "metadata": {},
   "outputs": [
    {
     "data": {
      "text/plain": [
       "KNeighborsRegressor(algorithm='auto', leaf_size=30, metric='minkowski',\n",
       "          metric_params=None, n_jobs=None, n_neighbors=14, p=2,\n",
       "          weights='uniform')"
      ]
     },
     "execution_count": 137,
     "metadata": {},
     "output_type": "execute_result"
    }
   ],
   "source": [
    "model.fit(train_x,train_y)"
   ]
  },
  {
   "cell_type": "code",
   "execution_count": 138,
   "metadata": {},
   "outputs": [
    {
     "data": {
      "text/plain": [
       "array([0.24769286, 0.15266429, 0.09733571, ..., 0.2583    , 0.19764286,\n",
       "       0.22578571])"
      ]
     },
     "execution_count": 138,
     "metadata": {},
     "output_type": "execute_result"
    }
   ],
   "source": [
    "model.predict(test_x)"
   ]
  },
  {
   "cell_type": "code",
   "execution_count": 139,
   "metadata": {},
   "outputs": [
    {
     "data": {
      "text/plain": [
       "Index(['Gender', 'Age', 'Education_Level', 'Relationship_Status', 'Hometown',\n",
       "       'Unit', 'Decision_skill_possess', 'Time_of_service',\n",
       "       'Time_since_promotion', 'growth_rate', 'Travel_Rate', 'Post_Level',\n",
       "       'Pay_Scale', 'Compensation_and_Benefits', 'Work_Life_balance', 'VAR1',\n",
       "       'VAR2', 'VAR3', 'VAR4', 'VAR5', 'VAR6', 'VAR7'],\n",
       "      dtype='object')"
      ]
     },
     "execution_count": 139,
     "metadata": {},
     "output_type": "execute_result"
    }
   ],
   "source": [
    "test_x.columns"
   ]
  },
  {
   "cell_type": "code",
   "execution_count": 140,
   "metadata": {},
   "outputs": [
    {
     "data": {
      "text/plain": [
       "Index(['Gender', 'Age', 'Education_Level', 'Relationship_Status', 'Hometown',\n",
       "       'Unit', 'Decision_skill_possess', 'Time_of_service',\n",
       "       'Time_since_promotion', 'growth_rate', 'Travel_Rate', 'Post_Level',\n",
       "       'Pay_Scale', 'Compensation_and_Benefits', 'Work_Life_balance', 'VAR1',\n",
       "       'VAR2', 'VAR3', 'VAR4', 'VAR5', 'VAR6', 'VAR7'],\n",
       "      dtype='object')"
      ]
     },
     "execution_count": 140,
     "metadata": {},
     "output_type": "execute_result"
    }
   ],
   "source": [
    "a.columns"
   ]
  },
  {
   "cell_type": "code",
   "execution_count": 141,
   "metadata": {},
   "outputs": [
    {
     "data": {
      "text/plain": [
       "Gender                       0\n",
       "Age                          0\n",
       "Education_Level              0\n",
       "Relationship_Status          0\n",
       "Hometown                     0\n",
       "Unit                         0\n",
       "Decision_skill_possess       0\n",
       "Time_of_service              0\n",
       "Time_since_promotion         0\n",
       "growth_rate                  0\n",
       "Travel_Rate                  0\n",
       "Post_Level                   0\n",
       "Pay_Scale                    0\n",
       "Compensation_and_Benefits    0\n",
       "Work_Life_balance            0\n",
       "VAR1                         0\n",
       "VAR2                         0\n",
       "VAR3                         0\n",
       "VAR4                         0\n",
       "VAR5                         0\n",
       "VAR6                         0\n",
       "VAR7                         0\n",
       "dtype: int64"
      ]
     },
     "execution_count": 141,
     "metadata": {},
     "output_type": "execute_result"
    }
   ],
   "source": [
    "a.isnull().sum()"
   ]
  },
  {
   "cell_type": "code",
   "execution_count": 174,
   "metadata": {},
   "outputs": [],
   "source": [
    "pred_vals=model.predict(a)"
   ]
  },
  {
   "cell_type": "code",
   "execution_count": 143,
   "metadata": {},
   "outputs": [],
   "source": [
    "linear_pred_vals=model_linear.predict(a)"
   ]
  },
  {
   "cell_type": "code",
   "execution_count": 157,
   "metadata": {},
   "outputs": [],
   "source": [
    "rf_vals=model_rf.predict(a)"
   ]
  },
  {
   "cell_type": "code",
   "execution_count": 175,
   "metadata": {},
   "outputs": [
    {
     "name": "stdout",
     "output_type": "stream",
     "text": [
      "[0.14666957 0.23573478 0.17815217 ... 0.2365     0.19143478 0.19966087] [0.20189551 0.19405158 0.17903086 ... 0.17239962 0.16977464 0.16780778] [0.23295 0.52602 0.19192 ... 0.24146 0.21054 0.15922] [0.19383836 0.31860212 0.18303435 ... 0.21678654 0.19058314 0.17556288]\n"
     ]
    }
   ],
   "source": [
    "print(pred_vals,linear_pred_vals,rf_vals,(pred_vals+linear_pred_vals+rf_vals)/3)"
   ]
  },
  {
   "cell_type": "code",
   "execution_count": 176,
   "metadata": {},
   "outputs": [],
   "source": [
    "final_vals=(pred_vals+linear_pred_vals+rf_vals)/3"
   ]
  },
  {
   "cell_type": "code",
   "execution_count": 177,
   "metadata": {},
   "outputs": [],
   "source": [
    "data_frame_test[\"Attrition_rate\"]=linear_pred_vals"
   ]
  },
  {
   "cell_type": "code",
   "execution_count": 178,
   "metadata": {},
   "outputs": [],
   "source": [
    "pred_data_set=data_frame_test[[\"Employee_ID\",\"Attrition_rate\"]]"
   ]
  },
  {
   "cell_type": "code",
   "execution_count": 179,
   "metadata": {},
   "outputs": [],
   "source": [
    "pred_data_set.to_csv('Solution_Linear_KNN_RF.csv')"
   ]
  },
  {
   "cell_type": "code",
   "execution_count": 165,
   "metadata": {},
   "outputs": [],
   "source": [
    "#Only rf tree checking\n",
    "\n",
    "final_vals=rf_vals\n",
    "data_frame_test[\"Attrition_rate\"]=final_vals\n",
    "pred_data_set=data_frame_test[[\"Employee_ID\",\"Attrition_rate\"]]\n",
    "pred_data_set.to_csv(\"Solution_RF.csv\")"
   ]
  },
  {
   "cell_type": "code",
   "execution_count": 160,
   "metadata": {},
   "outputs": [],
   "source": [
    "#linear and rf ensembling\n",
    "\n",
    "final_vals=(rf_vals+linear_pred_vals)/2\n",
    "data_frame_test[\"Attrition_rate\"]=final_vals\n",
    "pred_data_set=data_frame_test[[\"Employee_ID\",\"Attrition_rate\"]]\n",
    "pred_data_set.to_csv(\"Solution_RF_Linear.csv\")"
   ]
  },
  {
   "cell_type": "code",
   "execution_count": 170,
   "metadata": {},
   "outputs": [],
   "source": [
    "#rf and knn ensembling\n",
    "final_vals=(rf_vals+pred_vals)/2\n",
    "data_frame_test[\"Attrition_rate\"]=final_vals\n",
    "pred_data_set=data_frame_test[[\"Employee_ID\",\"Attrition_rate\"]]\n",
    "pred_data_set.to_csv(\"Solution_RF_KNN.csv\")"
   ]
  },
  {
   "cell_type": "code",
   "execution_count": null,
   "metadata": {},
   "outputs": [],
   "source": []
  }
 ],
 "metadata": {
  "kernelspec": {
   "display_name": "Python 3",
   "language": "python",
   "name": "python3"
  },
  "language_info": {
   "codemirror_mode": {
    "name": "ipython",
    "version": 3
   },
   "file_extension": ".py",
   "mimetype": "text/x-python",
   "name": "python",
   "nbconvert_exporter": "python",
   "pygments_lexer": "ipython3",
   "version": "3.7.3"
  }
 },
 "nbformat": 4,
 "nbformat_minor": 2
}
